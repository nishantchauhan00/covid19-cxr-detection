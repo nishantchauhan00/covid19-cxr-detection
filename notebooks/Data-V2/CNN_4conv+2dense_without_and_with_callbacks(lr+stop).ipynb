{
 "cells": [
  {
   "cell_type": "code",
   "execution_count": null,
   "metadata": {
    "id": "dg9jrZUubw3K"
   },
   "outputs": [],
   "source": [
    "import pandas as pd\n",
    "import numpy as np\n",
    "import os\n",
    "import tensorflow as tf\n",
    "import cv2\n",
    "from tensorflow.keras import layers\n",
    "from tensorflow.keras.layers import Dense, Input, InputLayer, Flatten, BatchNormalization, Dropout\n",
    "from tensorflow.keras.models import Sequential, Model\n",
    "from  matplotlib import pyplot as plt\n",
    "from sklearn.model_selection import train_test_split\n",
    "import matplotlib.image as mpimg\n",
    "%matplotlib inline"
   ]
  },
  {
   "cell_type": "code",
   "execution_count": null,
   "metadata": {
    "id": "wcfbOATHb2zy"
   },
   "outputs": [],
   "source": [
    "batch_size = 32\n",
    "img_height = 299\n",
    "img_width = 299\n",
    "image_size = (img_height, img_width)"
   ]
  },
  {
   "cell_type": "code",
   "execution_count": null,
   "metadata": {
    "colab": {
     "base_uri": "https://localhost:8080/"
    },
    "id": "eZZn7KNxb21X",
    "outputId": "f3f10f0e-0744-4d3a-c5e4-9ca0b24e171d"
   },
   "outputs": [
    {
     "name": "stdout",
     "output_type": "stream",
     "text": [
      "Found 11447 files belonging to 5 classes.\n",
      "Found 2445 files belonging to 5 classes.\n",
      "Found 2445 files belonging to 5 classes.\n"
     ]
    }
   ],
   "source": [
    "data_dir1 = \"/content/drive/MyDrive/Colab Notebooks/Major/Data/train\"\n",
    "data_dir2 = \"/content/drive/MyDrive/Colab Notebooks/Major/Data/val\"\n",
    "data_dir3 = \"/content/drive/MyDrive/Colab Notebooks/Major/Data/test\"\n",
    "train_ds = tf.keras.preprocessing.image_dataset_from_directory(\n",
    "  data_dir1,\n",
    "  validation_split=None,\n",
    "  shuffle=True,\n",
    "  image_size=(img_height, img_width),\n",
    "  subset=None,\n",
    "  seed=123,\n",
    "  batch_size=batch_size,\n",
    "  label_mode='categorical'\n",
    ")\n",
    "val_ds = tf.keras.preprocessing.image_dataset_from_directory(\n",
    "  data_dir2,\n",
    "  validation_split=None,\n",
    "  shuffle=True,\n",
    "  image_size=(img_height, img_width),\n",
    "  subset=None,\n",
    "  seed=123,\n",
    "  batch_size=batch_size,\n",
    "  label_mode='categorical'\n",
    ")\n",
    "test_ds = tf.keras.preprocessing.image_dataset_from_directory(\n",
    "  data_dir3,\n",
    "  validation_split=None,\n",
    "  shuffle=True,\n",
    "  image_size=(img_height, img_width),\n",
    "  subset=None,\n",
    "  seed=123,\n",
    "  batch_size=batch_size,\n",
    "  label_mode='categorical'\n",
    ")"
   ]
  },
  {
   "cell_type": "code",
   "execution_count": null,
   "metadata": {
    "id": "ya4H3yrbb23r"
   },
   "outputs": [],
   "source": [
    "from tensorflow.keras.models import Sequential,load_model,save_model\n",
    "from tensorflow.keras.layers import Dense,Conv2D,Flatten,MaxPooling2D\n",
    "from tensorflow.keras.callbacks import EarlyStopping,ReduceLROnPlateau\n",
    "from keras.layers import Conv2D, MaxPooling2D"
   ]
  },
  {
   "cell_type": "code",
   "execution_count": null,
   "metadata": {
    "id": "c_0hbsjFb26D"
   },
   "outputs": [],
   "source": [
    "cnn = Sequential()\n",
    "\n",
    "cnn.add(Conv2D(32, (3, 3), activation=\"relu\", input_shape=(img_width, img_height, 3)))\n",
    "cnn.add(MaxPooling2D(pool_size = (2, 2)))\n",
    "\n",
    "cnn.add(Conv2D(32, (3, 3), activation=\"relu\", input_shape=(img_width, img_height, 3)))\n",
    "cnn.add(MaxPooling2D(pool_size = (2, 2)))\n",
    "\n",
    "cnn.add(Conv2D(32, (3, 3), activation=\"relu\", input_shape=(img_width, img_height, 3)))\n",
    "cnn.add(MaxPooling2D(pool_size = (2, 2)))\n",
    "\n",
    "cnn.add(Conv2D(64, (3, 3), activation=\"relu\", input_shape=(img_width, img_height, 3)))\n",
    "cnn.add(MaxPooling2D(pool_size = (2, 2)))\n",
    "\n",
    "cnn.add(Conv2D(64, (3, 3), activation=\"relu\", input_shape=(img_width, img_height, 3)))\n",
    "cnn.add(MaxPooling2D(pool_size = (2, 2)))\n",
    "\n",
    "cnn.add(Flatten())\n",
    "\n",
    "cnn.add(Dense(activation = 'relu', units = 128))\n",
    "cnn.add(Dense(activation = 'relu', units = 64))\n",
    "cnn.add(Dense(5, activation = 'softmax'))\n",
    "\n",
    "\n",
    "cnn.compile(optimizer = 'adam', loss = 'categorical_crossentropy', metrics = ['accuracy'])"
   ]
  },
  {
   "cell_type": "code",
   "execution_count": null,
   "metadata": {
    "colab": {
     "base_uri": "https://localhost:8080/"
    },
    "id": "NMsFHzk-b28M",
    "outputId": "d106b029-a0bd-4b88-81c4-e5dd8a825d7f"
   },
   "outputs": [
    {
     "name": "stdout",
     "output_type": "stream",
     "text": [
      "Model: \"sequential_1\"\n",
      "_________________________________________________________________\n",
      "Layer (type)                 Output Shape              Param #   \n",
      "=================================================================\n",
      "module_wrapper_10 (ModuleWra (1, 297, 297, 32)         896       \n",
      "_________________________________________________________________\n",
      "module_wrapper_11 (ModuleWra (1, 148, 148, 32)         0         \n",
      "_________________________________________________________________\n",
      "module_wrapper_12 (ModuleWra (1, 146, 146, 32)         9248      \n",
      "_________________________________________________________________\n",
      "module_wrapper_13 (ModuleWra (1, 73, 73, 32)           0         \n",
      "_________________________________________________________________\n",
      "module_wrapper_14 (ModuleWra (1, 71, 71, 32)           9248      \n",
      "_________________________________________________________________\n",
      "module_wrapper_15 (ModuleWra (1, 35, 35, 32)           0         \n",
      "_________________________________________________________________\n",
      "module_wrapper_16 (ModuleWra (1, 33, 33, 64)           18496     \n",
      "_________________________________________________________________\n",
      "module_wrapper_17 (ModuleWra (1, 16, 16, 64)           0         \n",
      "_________________________________________________________________\n",
      "module_wrapper_18 (ModuleWra (1, 14, 14, 64)           36928     \n",
      "_________________________________________________________________\n",
      "module_wrapper_19 (ModuleWra (1, 7, 7, 64)             0         \n",
      "_________________________________________________________________\n",
      "flatten_1 (Flatten)          (1, 3136)                 0         \n",
      "_________________________________________________________________\n",
      "dense_3 (Dense)              (1, 128)                  401536    \n",
      "_________________________________________________________________\n",
      "dense_4 (Dense)              (1, 64)                   8256      \n",
      "_________________________________________________________________\n",
      "dense_5 (Dense)              (1, 5)                    325       \n",
      "=================================================================\n",
      "Total params: 484,933\n",
      "Trainable params: 484,933\n",
      "Non-trainable params: 0\n",
      "_________________________________________________________________\n"
     ]
    }
   ],
   "source": [
    "cnn.build(input_shape=(1, img_width, img_height, 3))\n",
    "cnn.summary()"
   ]
  },
  {
   "cell_type": "code",
   "execution_count": null,
   "metadata": {
    "id": "cu1AEfeBb2-r"
   },
   "outputs": [],
   "source": [
    "early = EarlyStopping(monitor=\"val_loss\", \n",
    "                      mode=\"min\", \n",
    "                      patience=3)\n",
    "\n",
    "learning_rate_reduction = ReduceLROnPlateau(monitor='val_loss', patience = 2, verbose=1,factor=0.3, min_lr=0.000001)\n",
    "\n",
    "callbacks_list = [ early, learning_rate_reduction]"
   ]
  },
  {
   "cell_type": "code",
   "execution_count": null,
   "metadata": {
    "colab": {
     "base_uri": "https://localhost:8080/",
     "height": 1000
    },
    "id": "eNBMt5CEb3A1",
    "outputId": "e1b01dbb-bc24-4ff4-870c-281244d4bab8"
   },
   "outputs": [
    {
     "name": "stdout",
     "output_type": "stream",
     "text": [
      "Epoch 1/30\n",
      "358/358 [==============================] - 661s 2s/step - loss: 0.6144 - accuracy: 0.7968 - val_loss: 0.3430 - val_accuracy: 0.8826\n",
      "Epoch 2/30\n",
      "358/358 [==============================] - 53s 146ms/step - loss: 0.2596 - accuracy: 0.9073 - val_loss: 0.2998 - val_accuracy: 0.9031\n",
      "Epoch 3/30\n",
      "358/358 [==============================] - 53s 146ms/step - loss: 0.1845 - accuracy: 0.9354 - val_loss: 0.2546 - val_accuracy: 0.9268\n",
      "Epoch 4/30\n",
      "358/358 [==============================] - 53s 146ms/step - loss: 0.1383 - accuracy: 0.9517 - val_loss: 0.2679 - val_accuracy: 0.9215\n",
      "Epoch 5/30\n",
      "358/358 [==============================] - 53s 146ms/step - loss: 0.1120 - accuracy: 0.9617 - val_loss: 0.2736 - val_accuracy: 0.9198\n",
      "Epoch 6/30\n",
      "358/358 [==============================] - 53s 146ms/step - loss: 0.0910 - accuracy: 0.9671 - val_loss: 0.3002 - val_accuracy: 0.9276\n",
      "Epoch 7/30\n",
      "358/358 [==============================] - 53s 146ms/step - loss: 0.0786 - accuracy: 0.9731 - val_loss: 0.3146 - val_accuracy: 0.9313\n",
      "Epoch 8/30\n",
      "358/358 [==============================] - 53s 146ms/step - loss: 0.0727 - accuracy: 0.9753 - val_loss: 0.3269 - val_accuracy: 0.9157\n",
      "Epoch 9/30\n",
      "358/358 [==============================] - 53s 146ms/step - loss: 0.0510 - accuracy: 0.9830 - val_loss: 0.3104 - val_accuracy: 0.9313\n",
      "Epoch 10/30\n",
      "358/358 [==============================] - 53s 146ms/step - loss: 0.0462 - accuracy: 0.9829 - val_loss: 0.2800 - val_accuracy: 0.9292\n",
      "Epoch 11/30\n",
      "358/358 [==============================] - 53s 147ms/step - loss: 0.0418 - accuracy: 0.9857 - val_loss: 0.3556 - val_accuracy: 0.9354\n",
      "Epoch 12/30\n",
      "358/358 [==============================] - 52s 145ms/step - loss: 0.0462 - accuracy: 0.9848 - val_loss: 0.3535 - val_accuracy: 0.9227\n",
      "Epoch 13/30\n",
      "358/358 [==============================] - 53s 147ms/step - loss: 0.0404 - accuracy: 0.9872 - val_loss: 0.3460 - val_accuracy: 0.9362\n",
      "Epoch 14/30\n",
      "358/358 [==============================] - 53s 146ms/step - loss: 0.0608 - accuracy: 0.9778 - val_loss: 0.3147 - val_accuracy: 0.9374\n",
      "Epoch 15/30\n",
      "358/358 [==============================] - 53s 147ms/step - loss: 0.0376 - accuracy: 0.9878 - val_loss: 0.3590 - val_accuracy: 0.9321\n",
      "Epoch 16/30\n",
      "129/358 [=========>....................] - ETA: 28s - loss: 0.0245 - accuracy: 0.9915"
     ]
    },
    {
     "ename": "KeyboardInterrupt",
     "evalue": "ignored",
     "output_type": "error",
     "traceback": [
      "\u001b[0;31m---------------------------------------------------------------------------\u001b[0m",
      "\u001b[0;31mKeyboardInterrupt\u001b[0m                         Traceback (most recent call last)",
      "\u001b[0;32m<ipython-input-36-cd3717d3b05b>\u001b[0m in \u001b[0;36m<module>\u001b[0;34m()\u001b[0m\n\u001b[1;32m      2\u001b[0m     \u001b[0mtrain_ds\u001b[0m \u001b[0;34m,\u001b[0m\u001b[0;34m\u001b[0m\u001b[0;34m\u001b[0m\u001b[0m\n\u001b[1;32m      3\u001b[0m     \u001b[0mepochs\u001b[0m\u001b[0;34m=\u001b[0m\u001b[0;36m30\u001b[0m\u001b[0;34m,\u001b[0m\u001b[0;34m\u001b[0m\u001b[0;34m\u001b[0m\u001b[0m\n\u001b[0;32m----> 4\u001b[0;31m     \u001b[0mvalidation_data\u001b[0m\u001b[0;34m=\u001b[0m\u001b[0mval_ds\u001b[0m\u001b[0;34m,\u001b[0m\u001b[0;34m\u001b[0m\u001b[0;34m\u001b[0m\u001b[0m\n\u001b[0m\u001b[1;32m      5\u001b[0m )\n\u001b[1;32m      6\u001b[0m \u001b[0mcallbacks\u001b[0m\u001b[0;34m=\u001b[0m\u001b[0mcallbacks_list\u001b[0m\u001b[0;34m\u001b[0m\u001b[0;34m\u001b[0m\u001b[0m\n",
      "\u001b[0;32m/usr/local/lib/python3.7/dist-packages/tensorflow/python/keras/engine/training.py\u001b[0m in \u001b[0;36mfit\u001b[0;34m(self, x, y, batch_size, epochs, verbose, callbacks, validation_split, validation_data, shuffle, class_weight, sample_weight, initial_epoch, steps_per_epoch, validation_steps, validation_batch_size, validation_freq, max_queue_size, workers, use_multiprocessing)\u001b[0m\n\u001b[1;32m   1181\u001b[0m                 _r=1):\n\u001b[1;32m   1182\u001b[0m               \u001b[0mcallbacks\u001b[0m\u001b[0;34m.\u001b[0m\u001b[0mon_train_batch_begin\u001b[0m\u001b[0;34m(\u001b[0m\u001b[0mstep\u001b[0m\u001b[0;34m)\u001b[0m\u001b[0;34m\u001b[0m\u001b[0;34m\u001b[0m\u001b[0m\n\u001b[0;32m-> 1183\u001b[0;31m               \u001b[0mtmp_logs\u001b[0m \u001b[0;34m=\u001b[0m \u001b[0mself\u001b[0m\u001b[0;34m.\u001b[0m\u001b[0mtrain_function\u001b[0m\u001b[0;34m(\u001b[0m\u001b[0miterator\u001b[0m\u001b[0;34m)\u001b[0m\u001b[0;34m\u001b[0m\u001b[0;34m\u001b[0m\u001b[0m\n\u001b[0m\u001b[1;32m   1184\u001b[0m               \u001b[0;32mif\u001b[0m \u001b[0mdata_handler\u001b[0m\u001b[0;34m.\u001b[0m\u001b[0mshould_sync\u001b[0m\u001b[0;34m:\u001b[0m\u001b[0;34m\u001b[0m\u001b[0;34m\u001b[0m\u001b[0m\n\u001b[1;32m   1185\u001b[0m                 \u001b[0mcontext\u001b[0m\u001b[0;34m.\u001b[0m\u001b[0masync_wait\u001b[0m\u001b[0;34m(\u001b[0m\u001b[0;34m)\u001b[0m\u001b[0;34m\u001b[0m\u001b[0;34m\u001b[0m\u001b[0m\n",
      "\u001b[0;32m/usr/local/lib/python3.7/dist-packages/tensorflow/python/eager/def_function.py\u001b[0m in \u001b[0;36m__call__\u001b[0;34m(self, *args, **kwds)\u001b[0m\n\u001b[1;32m    887\u001b[0m \u001b[0;34m\u001b[0m\u001b[0m\n\u001b[1;32m    888\u001b[0m       \u001b[0;32mwith\u001b[0m \u001b[0mOptionalXlaContext\u001b[0m\u001b[0;34m(\u001b[0m\u001b[0mself\u001b[0m\u001b[0;34m.\u001b[0m\u001b[0m_jit_compile\u001b[0m\u001b[0;34m)\u001b[0m\u001b[0;34m:\u001b[0m\u001b[0;34m\u001b[0m\u001b[0;34m\u001b[0m\u001b[0m\n\u001b[0;32m--> 889\u001b[0;31m         \u001b[0mresult\u001b[0m \u001b[0;34m=\u001b[0m \u001b[0mself\u001b[0m\u001b[0;34m.\u001b[0m\u001b[0m_call\u001b[0m\u001b[0;34m(\u001b[0m\u001b[0;34m*\u001b[0m\u001b[0margs\u001b[0m\u001b[0;34m,\u001b[0m \u001b[0;34m**\u001b[0m\u001b[0mkwds\u001b[0m\u001b[0;34m)\u001b[0m\u001b[0;34m\u001b[0m\u001b[0;34m\u001b[0m\u001b[0m\n\u001b[0m\u001b[1;32m    890\u001b[0m \u001b[0;34m\u001b[0m\u001b[0m\n\u001b[1;32m    891\u001b[0m       \u001b[0mnew_tracing_count\u001b[0m \u001b[0;34m=\u001b[0m \u001b[0mself\u001b[0m\u001b[0;34m.\u001b[0m\u001b[0mexperimental_get_tracing_count\u001b[0m\u001b[0;34m(\u001b[0m\u001b[0;34m)\u001b[0m\u001b[0;34m\u001b[0m\u001b[0;34m\u001b[0m\u001b[0m\n",
      "\u001b[0;32m/usr/local/lib/python3.7/dist-packages/tensorflow/python/eager/def_function.py\u001b[0m in \u001b[0;36m_call\u001b[0;34m(self, *args, **kwds)\u001b[0m\n\u001b[1;32m    915\u001b[0m       \u001b[0;31m# In this case we have created variables on the first call, so we run the\u001b[0m\u001b[0;34m\u001b[0m\u001b[0;34m\u001b[0m\u001b[0;34m\u001b[0m\u001b[0m\n\u001b[1;32m    916\u001b[0m       \u001b[0;31m# defunned version which is guaranteed to never create variables.\u001b[0m\u001b[0;34m\u001b[0m\u001b[0;34m\u001b[0m\u001b[0;34m\u001b[0m\u001b[0m\n\u001b[0;32m--> 917\u001b[0;31m       \u001b[0;32mreturn\u001b[0m \u001b[0mself\u001b[0m\u001b[0;34m.\u001b[0m\u001b[0m_stateless_fn\u001b[0m\u001b[0;34m(\u001b[0m\u001b[0;34m*\u001b[0m\u001b[0margs\u001b[0m\u001b[0;34m,\u001b[0m \u001b[0;34m**\u001b[0m\u001b[0mkwds\u001b[0m\u001b[0;34m)\u001b[0m  \u001b[0;31m# pylint: disable=not-callable\u001b[0m\u001b[0;34m\u001b[0m\u001b[0;34m\u001b[0m\u001b[0m\n\u001b[0m\u001b[1;32m    918\u001b[0m     \u001b[0;32melif\u001b[0m \u001b[0mself\u001b[0m\u001b[0;34m.\u001b[0m\u001b[0m_stateful_fn\u001b[0m \u001b[0;32mis\u001b[0m \u001b[0;32mnot\u001b[0m \u001b[0;32mNone\u001b[0m\u001b[0;34m:\u001b[0m\u001b[0;34m\u001b[0m\u001b[0;34m\u001b[0m\u001b[0m\n\u001b[1;32m    919\u001b[0m       \u001b[0;31m# Release the lock early so that multiple threads can perform the call\u001b[0m\u001b[0;34m\u001b[0m\u001b[0;34m\u001b[0m\u001b[0;34m\u001b[0m\u001b[0m\n",
      "\u001b[0;32m/usr/local/lib/python3.7/dist-packages/tensorflow/python/eager/function.py\u001b[0m in \u001b[0;36m__call__\u001b[0;34m(self, *args, **kwargs)\u001b[0m\n\u001b[1;32m   3022\u001b[0m        filtered_flat_args) = self._maybe_define_function(args, kwargs)\n\u001b[1;32m   3023\u001b[0m     return graph_function._call_flat(\n\u001b[0;32m-> 3024\u001b[0;31m         filtered_flat_args, captured_inputs=graph_function.captured_inputs)  # pylint: disable=protected-access\n\u001b[0m\u001b[1;32m   3025\u001b[0m \u001b[0;34m\u001b[0m\u001b[0m\n\u001b[1;32m   3026\u001b[0m   \u001b[0;34m@\u001b[0m\u001b[0mproperty\u001b[0m\u001b[0;34m\u001b[0m\u001b[0;34m\u001b[0m\u001b[0m\n",
      "\u001b[0;32m/usr/local/lib/python3.7/dist-packages/tensorflow/python/eager/function.py\u001b[0m in \u001b[0;36m_call_flat\u001b[0;34m(self, args, captured_inputs, cancellation_manager)\u001b[0m\n\u001b[1;32m   1959\u001b[0m       \u001b[0;31m# No tape is watching; skip to running the function.\u001b[0m\u001b[0;34m\u001b[0m\u001b[0;34m\u001b[0m\u001b[0;34m\u001b[0m\u001b[0m\n\u001b[1;32m   1960\u001b[0m       return self._build_call_outputs(self._inference_function.call(\n\u001b[0;32m-> 1961\u001b[0;31m           ctx, args, cancellation_manager=cancellation_manager))\n\u001b[0m\u001b[1;32m   1962\u001b[0m     forward_backward = self._select_forward_and_backward_functions(\n\u001b[1;32m   1963\u001b[0m         \u001b[0margs\u001b[0m\u001b[0;34m,\u001b[0m\u001b[0;34m\u001b[0m\u001b[0;34m\u001b[0m\u001b[0m\n",
      "\u001b[0;32m/usr/local/lib/python3.7/dist-packages/tensorflow/python/eager/function.py\u001b[0m in \u001b[0;36mcall\u001b[0;34m(self, ctx, args, cancellation_manager)\u001b[0m\n\u001b[1;32m    594\u001b[0m               \u001b[0minputs\u001b[0m\u001b[0;34m=\u001b[0m\u001b[0margs\u001b[0m\u001b[0;34m,\u001b[0m\u001b[0;34m\u001b[0m\u001b[0;34m\u001b[0m\u001b[0m\n\u001b[1;32m    595\u001b[0m               \u001b[0mattrs\u001b[0m\u001b[0;34m=\u001b[0m\u001b[0mattrs\u001b[0m\u001b[0;34m,\u001b[0m\u001b[0;34m\u001b[0m\u001b[0;34m\u001b[0m\u001b[0m\n\u001b[0;32m--> 596\u001b[0;31m               ctx=ctx)\n\u001b[0m\u001b[1;32m    597\u001b[0m         \u001b[0;32melse\u001b[0m\u001b[0;34m:\u001b[0m\u001b[0;34m\u001b[0m\u001b[0;34m\u001b[0m\u001b[0m\n\u001b[1;32m    598\u001b[0m           outputs = execute.execute_with_cancellation(\n",
      "\u001b[0;32m/usr/local/lib/python3.7/dist-packages/tensorflow/python/eager/execute.py\u001b[0m in \u001b[0;36mquick_execute\u001b[0;34m(op_name, num_outputs, inputs, attrs, ctx, name)\u001b[0m\n\u001b[1;32m     58\u001b[0m     \u001b[0mctx\u001b[0m\u001b[0;34m.\u001b[0m\u001b[0mensure_initialized\u001b[0m\u001b[0;34m(\u001b[0m\u001b[0;34m)\u001b[0m\u001b[0;34m\u001b[0m\u001b[0;34m\u001b[0m\u001b[0m\n\u001b[1;32m     59\u001b[0m     tensors = pywrap_tfe.TFE_Py_Execute(ctx._handle, device_name, op_name,\n\u001b[0;32m---> 60\u001b[0;31m                                         inputs, attrs, num_outputs)\n\u001b[0m\u001b[1;32m     61\u001b[0m   \u001b[0;32mexcept\u001b[0m \u001b[0mcore\u001b[0m\u001b[0;34m.\u001b[0m\u001b[0m_NotOkStatusException\u001b[0m \u001b[0;32mas\u001b[0m \u001b[0me\u001b[0m\u001b[0;34m:\u001b[0m\u001b[0;34m\u001b[0m\u001b[0;34m\u001b[0m\u001b[0m\n\u001b[1;32m     62\u001b[0m     \u001b[0;32mif\u001b[0m \u001b[0mname\u001b[0m \u001b[0;32mis\u001b[0m \u001b[0;32mnot\u001b[0m \u001b[0;32mNone\u001b[0m\u001b[0;34m:\u001b[0m\u001b[0;34m\u001b[0m\u001b[0;34m\u001b[0m\u001b[0m\n",
      "\u001b[0;31mKeyboardInterrupt\u001b[0m: "
     ]
    }
   ],
   "source": [
    "# without callbacks\n",
    "cnn.fit(\n",
    "    train_ds ,\n",
    "    epochs=30, \n",
    "    validation_data=val_ds, \n",
    ")\n",
    "# callbacks=callbacks_list"
   ]
  },
  {
   "cell_type": "code",
   "execution_count": null,
   "metadata": {
    "colab": {
     "base_uri": "https://localhost:8080/"
    },
    "id": "7J00-RK3b3DS",
    "outputId": "41118ed5-7169-4f85-b302-434186539e0d"
   },
   "outputs": [
    {
     "name": "stdout",
     "output_type": "stream",
     "text": [
      "77/77 [==============================] - 141s 2s/step - loss: 0.3291 - accuracy: 0.9325\n",
      "The testing accuracy is : 93.25153231620789 %\n"
     ]
    }
   ],
   "source": [
    "test_accu = cnn.evaluate(test_ds)\n",
    "print('The testing accuracy is :',test_accu[1]*100, '%')"
   ]
  },
  {
   "cell_type": "code",
   "execution_count": null,
   "metadata": {
    "colab": {
     "base_uri": "https://localhost:8080/"
    },
    "id": "08gvWFsgb3Fd",
    "outputId": "0270f01b-baea-47f5-a9fe-e4d0e364d555"
   },
   "outputs": [
    {
     "name": "stdout",
     "output_type": "stream",
     "text": [
      "77/77 [==============================] - 6s 72ms/step\n",
      "tf.Tensor(\n",
      "[[0. 0. 0. 0. 1.]\n",
      " [0. 0. 0. 0. 1.]\n",
      " [1. 0. 0. 0. 0.]\n",
      " ...\n",
      " [1. 0. 0. 0. 0.]\n",
      " [0. 1. 0. 0. 0.]\n",
      " [0. 0. 0. 1. 0.]], shape=(2445, 5), dtype=float32) {0, 1, 2, 3, 4}\n"
     ]
    }
   ],
   "source": [
    "pred = cnn.predict(test_ds,verbose=1)\n",
    "true_categories = tf.concat([y for x, y in test_ds], axis=0)\n",
    "print((true_categories), set(true_categories.numpy().argmax(axis=1)))\n",
    "\n",
    "preds = []\n",
    "for v in pred:\n",
    "    x = []\n",
    "    i = max(v)\n",
    "    for val in v:\n",
    "        if val == i:\n",
    "            x.append(1)\n",
    "        else:\n",
    "            x.append(0)\n",
    "    preds.append(x)\n",
    "\n",
    "true_categories = true_categories.numpy().argmax(axis=1)\n",
    "preds = np.array(preds).argmax(axis=1)"
   ]
  },
  {
   "cell_type": "code",
   "execution_count": null,
   "metadata": {
    "colab": {
     "base_uri": "https://localhost:8080/"
    },
    "id": "m71TeA1gyrb_",
    "outputId": "293a268a-1bd5-4af6-dd53-8c64aac59d17"
   },
   "outputs": [
    {
     "name": "stdout",
     "output_type": "stream",
     "text": [
      "[554, 250, 497, 624, 520]\n",
      "[540, 255, 480, 645, 525]\n"
     ]
    }
   ],
   "source": [
    "cal = [0, 0, 0, 0, 0]\n",
    "for x in preds:\n",
    "  cal[x] += 1\n",
    "print(cal)\n",
    "\n",
    "cal1 = [0, 0, 0, 0, 0]\n",
    "for x in true_categories:\n",
    "  cal1[x] += 1\n",
    "print(cal1)"
   ]
  },
  {
   "cell_type": "code",
   "execution_count": null,
   "metadata": {
    "id": "nAmGU0oeb3H7"
   },
   "outputs": [],
   "source": [
    "import seaborn as sns\n",
    "from sklearn.metrics import confusion_matrix, classification_report"
   ]
  },
  {
   "cell_type": "code",
   "execution_count": null,
   "metadata": {
    "colab": {
     "base_uri": "https://localhost:8080/",
     "height": 508
    },
    "id": "Xr_2p0kKb3Lb",
    "outputId": "d8c05da2-3a3a-4be6-a1bf-70bfe9ffe0fa"
   },
   "outputs": [
    {
     "data": {
      "image/png": "[encoded data removed]",
      "text/plain": [
       "<Figure size 576x576 with 1 Axes>"
      ]
     },
     "metadata": {
      "tags": []
     },
     "output_type": "display_data"
    }
   ],
   "source": [
    "cm = confusion_matrix(true_categories, preds)\n",
    "fig = plt.figure(figsize = (8,8))\n",
    "ax1 = fig.add_subplot(1,1,1)\n",
    "sns.set(font_scale=1.4) #for label size\n",
    "sns.heatmap(cm, annot=True, annot_kws={\"size\": 12},\n",
    "     cbar = False, cmap='Purples');\n",
    "ax1.set_ylabel('True Values',fontsize=14)\n",
    "ax1.set_xlabel('Predicted Values',fontsize=14)\n",
    "plt.show()"
   ]
  },
  {
   "cell_type": "code",
   "execution_count": null,
   "metadata": {
    "colab": {
     "base_uri": "https://localhost:8080/"
    },
    "id": "sSNxSp3WkP4d",
    "outputId": "78f930f8-68c2-48e0-9d31-ebe80717d269"
   },
   "outputs": [
    {
     "name": "stdout",
     "output_type": "stream",
     "text": [
      "              precision    recall  f1-score   support\n",
      "\n",
      "           0       0.22      0.21      0.21       540\n",
      "           1       0.09      0.11      0.10       255\n",
      "           2       0.19      0.19      0.19       480\n",
      "           3       0.26      0.25      0.26       645\n",
      "           4       0.22      0.22      0.22       525\n",
      "\n",
      "    accuracy                           0.21      2445\n",
      "   macro avg       0.20      0.20      0.20      2445\n",
      "weighted avg       0.21      0.21      0.21      2445\n",
      "\n"
     ]
    }
   ],
   "source": [
    "print(classification_report(true_categories, preds))"
   ]
  },
  {
   "cell_type": "code",
   "execution_count": null,
   "metadata": {
    "colab": {
     "base_uri": "https://localhost:8080/"
    },
    "id": "PX5l0kLtlOs1",
    "outputId": "c45c72da-e2ca-48f5-f726-0cb30867bc0f"
   },
   "outputs": [
    {
     "name": "stdout",
     "output_type": "stream",
     "text": [
      "{0, 1, 2, 3, 4} {0, 1, 2, 3, 4}\n"
     ]
    }
   ],
   "source": [
    "print(set(preds), set(true_categories))"
   ]
  },
  {
   "cell_type": "code",
   "execution_count": null,
   "metadata": {
    "id": "rO1KBTAT4cTG"
   },
   "outputs": [],
   "source": []
  },
  {
   "cell_type": "code",
   "execution_count": null,
   "metadata": {
    "id": "4LCAP8lN4caI"
   },
   "outputs": [],
   "source": []
  },
  {
   "cell_type": "code",
   "execution_count": null,
   "metadata": {
    "id": "Vow85PFg4cc7"
   },
   "outputs": [],
   "source": []
  },
  {
   "cell_type": "code",
   "execution_count": null,
   "metadata": {
    "id": "Av6BzkMmzP_J"
   },
   "outputs": [],
   "source": [
    "# ///////////////////////////////////////////////////////\n",
    "# ///////////////////////////////////////////////////////\n",
    "# ///////////////////////////////////////////////////////"
   ]
  },
  {
   "cell_type": "code",
   "execution_count": null,
   "metadata": {
    "id": "AG_NjpA5zQEy"
   },
   "outputs": [],
   "source": [
    "#     now with callbacks"
   ]
  },
  {
   "cell_type": "code",
   "execution_count": null,
   "metadata": {
    "colab": {
     "base_uri": "https://localhost:8080/"
    },
    "id": "X4RtN3HlzQHh",
    "outputId": "95fdb2c2-95c4-4005-af1d-9751d8ad300c"
   },
   "outputs": [
    {
     "name": "stdout",
     "output_type": "stream",
     "text": [
      "Epoch 1/30\n",
      "358/358 [==============================] - 53s 146ms/step - loss: 0.8644 - accuracy: 0.7535 - val_loss: 0.4112 - val_accuracy: 0.8589\n",
      "Epoch 2/30\n",
      "358/358 [==============================] - 53s 146ms/step - loss: 0.4177 - accuracy: 0.8521 - val_loss: 0.3763 - val_accuracy: 0.8744\n",
      "Epoch 3/30\n",
      "358/358 [==============================] - 52s 145ms/step - loss: 0.2948 - accuracy: 0.8961 - val_loss: 0.3396 - val_accuracy: 0.8973\n",
      "Epoch 4/30\n",
      "358/358 [==============================] - 53s 146ms/step - loss: 0.2345 - accuracy: 0.9208 - val_loss: 0.3658 - val_accuracy: 0.8928\n",
      "Epoch 5/30\n",
      "358/358 [==============================] - 53s 146ms/step - loss: 0.2347 - accuracy: 0.9179 - val_loss: 0.3026 - val_accuracy: 0.9133\n",
      "Epoch 6/30\n",
      "358/358 [==============================] - 53s 146ms/step - loss: 0.1740 - accuracy: 0.9388 - val_loss: 0.2849 - val_accuracy: 0.9117\n",
      "Epoch 7/30\n",
      "358/358 [==============================] - 53s 146ms/step - loss: 0.1550 - accuracy: 0.9442 - val_loss: 0.2986 - val_accuracy: 0.9190\n",
      "Epoch 8/30\n",
      "358/358 [==============================] - 53s 146ms/step - loss: 0.1228 - accuracy: 0.9580 - val_loss: 0.3062 - val_accuracy: 0.9252\n",
      "\n",
      "Epoch 00008: ReduceLROnPlateau reducing learning rate to 0.0003000000142492354.\n",
      "Epoch 9/30\n",
      "358/358 [==============================] - 53s 146ms/step - loss: 0.0592 - accuracy: 0.9808 - val_loss: 0.2315 - val_accuracy: 0.9436\n",
      "Epoch 10/30\n",
      "358/358 [==============================] - 53s 146ms/step - loss: 0.0402 - accuracy: 0.9868 - val_loss: 0.2687 - val_accuracy: 0.9391\n",
      "Epoch 11/30\n",
      "358/358 [==============================] - 52s 145ms/step - loss: 0.0338 - accuracy: 0.9894 - val_loss: 0.2693 - val_accuracy: 0.9472\n",
      "\n",
      "Epoch 00011: ReduceLROnPlateau reducing learning rate to 9.000000427477062e-05.\n",
      "Epoch 12/30\n",
      "358/358 [==============================] - 53s 146ms/step - loss: 0.0207 - accuracy: 0.9934 - val_loss: 0.2692 - val_accuracy: 0.9485\n"
     ]
    },
    {
     "data": {
      "text/plain": [
       "<tensorflow.python.keras.callbacks.History at 0x7f2d07ca1f10>"
      ]
     },
     "execution_count": 52,
     "metadata": {
      "tags": []
     },
     "output_type": "execute_result"
    }
   ],
   "source": [
    "# with callbacks\n",
    "cnn.fit(\n",
    "    train_ds ,\n",
    "    epochs=30, \n",
    "    validation_data=val_ds, \n",
    "    callbacks=callbacks_list\n",
    ")"
   ]
  },
  {
   "cell_type": "code",
   "execution_count": null,
   "metadata": {
    "colab": {
     "base_uri": "https://localhost:8080/"
    },
    "id": "bReYLSITlSZA",
    "outputId": "86e2ac11-a905-486f-e75d-904553da29de"
   },
   "outputs": [
    {
     "name": "stdout",
     "output_type": "stream",
     "text": [
      "77/77 [==============================] - 8s 92ms/step - loss: 0.2364 - accuracy: 0.9505\n",
      "The testing accuracy is : 95.05112767219543 %\n"
     ]
    }
   ],
   "source": [
    "test_accu = cnn.evaluate(test_ds)\n",
    "print('The testing accuracy is :',test_accu[1]*100, '%')"
   ]
  },
  {
   "cell_type": "code",
   "execution_count": null,
   "metadata": {
    "colab": {
     "base_uri": "https://localhost:8080/"
    },
    "id": "8jEDJQN42sQG",
    "outputId": "091f6f8f-8f38-48a2-ff47-0f2b92b61b2e"
   },
   "outputs": [
    {
     "name": "stdout",
     "output_type": "stream",
     "text": [
      "77/77 [==============================] - 6s 71ms/step\n"
     ]
    }
   ],
   "source": [
    "pred = cnn.predict(test_ds,verbose=1)\n",
    "true_categories = tf.concat([y for x, y in test_ds], axis=0)\n",
    "# print((true_categories), set(true_categories.numpy().argmax(axis=1)))\n",
    "\n",
    "preds = []\n",
    "for v in pred:\n",
    "    x = []\n",
    "    i = max(v)\n",
    "    for val in v:\n",
    "        if val == i:\n",
    "            x.append(1)\n",
    "        else:\n",
    "            x.append(0)\n",
    "    preds.append(x)\n",
    "\n",
    "true_categories = true_categories.numpy().argmax(axis=1)\n",
    "preds = np.array(preds).argmax(axis=1)"
   ]
  },
  {
   "cell_type": "code",
   "execution_count": null,
   "metadata": {
    "id": "ru9P8kTW2sgK"
   },
   "outputs": [],
   "source": [
    "import seaborn as sns\n",
    "from sklearn.metrics import confusion_matrix, classification_report"
   ]
  },
  {
   "cell_type": "code",
   "execution_count": null,
   "metadata": {
    "colab": {
     "base_uri": "https://localhost:8080/",
     "height": 600
    },
    "id": "YjFmpqVn2sld",
    "outputId": "0e3a9f94-018c-4cc7-8d64-13a697ec4978"
   },
   "outputs": [
    {
     "name": "stdout",
     "output_type": "stream",
     "text": [
      "[[120  50 105 144 121]\n",
      " [ 52  36  54  62  51]\n",
      " [115  48  98 117 102]\n",
      " [136  66 125 178 140]\n",
      " [131  50 115 123 106]]\n"
     ]
    },
    {
     "data": {
      "image/png": "[encoded data removed]",
      "text/plain": [
       "<Figure size 576x576 with 1 Axes>"
      ]
     },
     "metadata": {
      "tags": []
     },
     "output_type": "display_data"
    }
   ],
   "source": [
    "cm = confusion_matrix(true_categories, preds)\n",
    "print(cm)\n",
    "fig = plt.figure(figsize = (8,8))\n",
    "ax1 = fig.add_subplot(1,1,1)\n",
    "sns.set(font_scale=1.4) #for label size\n",
    "sns.heatmap(cm, annot=True, annot_kws={\"size\": 12},\n",
    "     cbar = False, cmap='Purples');\n",
    "ax1.set_ylabel('True Values',fontsize=14)\n",
    "ax1.set_xlabel('Predicted Values',fontsize=14)\n",
    "plt.show()"
   ]
  },
  {
   "cell_type": "code",
   "execution_count": null,
   "metadata": {
    "id": "R3WY4E2u2snx"
   },
   "outputs": [],
   "source": []
  },
  {
   "cell_type": "code",
   "execution_count": null,
   "metadata": {
    "id": "vw4GpGcf4d4h"
   },
   "outputs": [],
   "source": []
  },
  {
   "cell_type": "code",
   "execution_count": null,
   "metadata": {
    "id": "POYb4BZE4d7T"
   },
   "outputs": [],
   "source": []
  },
  {
   "cell_type": "code",
   "execution_count": null,
   "metadata": {
    "id": "0c40fUfO2sqJ"
   },
   "outputs": [],
   "source": [
    "# ///////////////////////////////////////////////////////\n",
    "# ///////////////////////////////////////////////////////\n",
    "# ///////////////////////////////////////////////////////"
   ]
  },
  {
   "cell_type": "code",
   "execution_count": null,
   "metadata": {
    "id": "GldCuPw24e3z"
   },
   "outputs": [],
   "source": [
    "# lr plateau on 1, dropout of 0.2"
   ]
  },
  {
   "cell_type": "code",
   "execution_count": null,
   "metadata": {
    "id": "5OQEP1_t2ssx"
   },
   "outputs": [],
   "source": [
    "cnn = Sequential()\n",
    "\n",
    "cnn.add(Conv2D(32, (3, 3), activation=\"relu\", input_shape=(img_width, img_height, 3)))\n",
    "cnn.add(MaxPooling2D(pool_size = (2, 2)))\n",
    "\n",
    "cnn.add(Conv2D(32, (3, 3), activation=\"relu\", input_shape=(img_width, img_height, 3)))\n",
    "cnn.add(MaxPooling2D(pool_size = (2, 2)))\n",
    "\n",
    "cnn.add(Conv2D(32, (3, 3), activation=\"relu\", input_shape=(img_width, img_height, 3)))\n",
    "cnn.add(MaxPooling2D(pool_size = (2, 2)))\n",
    "\n",
    "cnn.add(Conv2D(64, (3, 3), activation=\"relu\", input_shape=(img_width, img_height, 3)))\n",
    "cnn.add(MaxPooling2D(pool_size = (2, 2)))\n",
    "\n",
    "cnn.add(Conv2D(64, (3, 3), activation=\"relu\", input_shape=(img_width, img_height, 3)))\n",
    "cnn.add(MaxPooling2D(pool_size = (2, 2)))\n",
    "\n",
    "cnn.add(Flatten())\n",
    "\n",
    "cnn.add(Dense(activation = 'relu', units = 128))\n",
    "cnn.add(Dropout(0.2))\n",
    "cnn.add(Dense(activation = 'relu', units = 64))\n",
    "cnn.add(Dense(5, activation = 'softmax'))\n",
    "\n",
    "\n",
    "cnn.compile(optimizer = 'adam', loss = 'categorical_crossentropy', metrics = ['accuracy'])"
   ]
  },
  {
   "cell_type": "code",
   "execution_count": null,
   "metadata": {
    "id": "3rPrCPWq2sum"
   },
   "outputs": [],
   "source": [
    "early = EarlyStopping(monitor=\"val_loss\", \n",
    "                      mode=\"min\", \n",
    "                      patience=3)\n",
    "\n",
    "learning_rate_reduction = ReduceLROnPlateau(monitor='val_loss', patience = 1, verbose=1,factor=0.3, min_lr=0.000001)\n",
    "\n",
    "callbacks_list = [ early, learning_rate_reduction]"
   ]
  },
  {
   "cell_type": "code",
   "execution_count": null,
   "metadata": {
    "colab": {
     "base_uri": "https://localhost:8080/"
    },
    "id": "8z3e0T-22sxt",
    "outputId": "9ec1e27f-dcc9-4e2e-ecb1-71b2ec795fc4"
   },
   "outputs": [
    {
     "name": "stdout",
     "output_type": "stream",
     "text": [
      "Model: \"sequential_2\"\n",
      "_________________________________________________________________\n",
      "Layer (type)                 Output Shape              Param #   \n",
      "=================================================================\n",
      "module_wrapper_20 (ModuleWra (1, 297, 297, 32)         896       \n",
      "_________________________________________________________________\n",
      "module_wrapper_21 (ModuleWra (1, 148, 148, 32)         0         \n",
      "_________________________________________________________________\n",
      "module_wrapper_22 (ModuleWra (1, 146, 146, 32)         9248      \n",
      "_________________________________________________________________\n",
      "module_wrapper_23 (ModuleWra (1, 73, 73, 32)           0         \n",
      "_________________________________________________________________\n",
      "module_wrapper_24 (ModuleWra (1, 71, 71, 32)           9248      \n",
      "_________________________________________________________________\n",
      "module_wrapper_25 (ModuleWra (1, 35, 35, 32)           0         \n",
      "_________________________________________________________________\n",
      "module_wrapper_26 (ModuleWra (1, 33, 33, 64)           18496     \n",
      "_________________________________________________________________\n",
      "module_wrapper_27 (ModuleWra (1, 16, 16, 64)           0         \n",
      "_________________________________________________________________\n",
      "module_wrapper_28 (ModuleWra (1, 14, 14, 64)           36928     \n",
      "_________________________________________________________________\n",
      "module_wrapper_29 (ModuleWra (1, 7, 7, 64)             0         \n",
      "_________________________________________________________________\n",
      "flatten_2 (Flatten)          (1, 3136)                 0         \n",
      "_________________________________________________________________\n",
      "dense_6 (Dense)              (1, 128)                  401536    \n",
      "_________________________________________________________________\n",
      "dropout (Dropout)            (1, 128)                  0         \n",
      "_________________________________________________________________\n",
      "dense_7 (Dense)              (1, 64)                   8256      \n",
      "_________________________________________________________________\n",
      "dense_8 (Dense)              (1, 5)                    325       \n",
      "=================================================================\n",
      "Total params: 484,933\n",
      "Trainable params: 484,933\n",
      "Non-trainable params: 0\n",
      "_________________________________________________________________\n"
     ]
    }
   ],
   "source": [
    "cnn.build(input_shape=(1, img_width, img_height, 3))\n",
    "cnn.summary()"
   ]
  },
  {
   "cell_type": "code",
   "execution_count": null,
   "metadata": {
    "colab": {
     "base_uri": "https://localhost:8080/"
    },
    "id": "bGiyXSn_2s0T",
    "outputId": "f619d5b8-9dd3-4ce8-8cc5-11381e42d8e8"
   },
   "outputs": [
    {
     "name": "stdout",
     "output_type": "stream",
     "text": [
      "Epoch 1/30\n",
      "358/358 [==============================] - 113s 313ms/step - loss: 0.8246 - accuracy: 0.7097 - val_loss: 0.5593 - val_accuracy: 0.8033\n",
      "Epoch 2/30\n",
      "358/358 [==============================] - 53s 147ms/step - loss: 0.6197 - accuracy: 0.7814 - val_loss: 0.7913 - val_accuracy: 0.7611\n",
      "\n",
      "Epoch 00002: ReduceLROnPlateau reducing learning rate to 0.0003000000142492354.\n",
      "Epoch 3/30\n",
      "358/358 [==============================] - 53s 146ms/step - loss: 0.5467 - accuracy: 0.8057 - val_loss: 0.4481 - val_accuracy: 0.8458\n",
      "Epoch 4/30\n",
      "358/358 [==============================] - 53s 146ms/step - loss: 0.4060 - accuracy: 0.8575 - val_loss: 0.3722 - val_accuracy: 0.8777\n",
      "Epoch 5/30\n",
      "358/358 [==============================] - 53s 147ms/step - loss: 0.3323 - accuracy: 0.8862 - val_loss: 0.3510 - val_accuracy: 0.8924\n",
      "Epoch 6/30\n",
      "358/358 [==============================] - 53s 146ms/step - loss: 0.2857 - accuracy: 0.8982 - val_loss: 0.3128 - val_accuracy: 0.8990\n",
      "Epoch 7/30\n",
      "358/358 [==============================] - 53s 148ms/step - loss: 0.2427 - accuracy: 0.9122 - val_loss: 0.3340 - val_accuracy: 0.9096\n",
      "\n",
      "Epoch 00007: ReduceLROnPlateau reducing learning rate to 9.000000427477062e-05.\n",
      "Epoch 8/30\n",
      "358/358 [==============================] - 53s 147ms/step - loss: 0.1896 - accuracy: 0.9310 - val_loss: 0.2597 - val_accuracy: 0.9219\n",
      "Epoch 9/30\n",
      "358/358 [==============================] - 53s 147ms/step - loss: 0.1717 - accuracy: 0.9396 - val_loss: 0.2691 - val_accuracy: 0.9211\n",
      "\n",
      "Epoch 00009: ReduceLROnPlateau reducing learning rate to 2.700000040931627e-05.\n",
      "Epoch 10/30\n",
      "358/358 [==============================] - 53s 147ms/step - loss: 0.1486 - accuracy: 0.9470 - val_loss: 0.2621 - val_accuracy: 0.9223\n",
      "\n",
      "Epoch 00010: ReduceLROnPlateau reducing learning rate to 8.100000013655517e-06.\n",
      "Epoch 11/30\n",
      "358/358 [==============================] - 53s 147ms/step - loss: 0.1421 - accuracy: 0.9493 - val_loss: 0.2589 - val_accuracy: 0.9243\n",
      "Epoch 12/30\n",
      "358/358 [==============================] - 53s 146ms/step - loss: 0.1358 - accuracy: 0.9516 - val_loss: 0.2598 - val_accuracy: 0.9260\n",
      "\n",
      "Epoch 00012: ReduceLROnPlateau reducing learning rate to 2.429999949526973e-06.\n",
      "Epoch 13/30\n",
      "358/358 [==============================] - 53s 147ms/step - loss: 0.1351 - accuracy: 0.9533 - val_loss: 0.2599 - val_accuracy: 0.9243\n",
      "\n",
      "Epoch 00013: ReduceLROnPlateau reducing learning rate to 1e-06.\n",
      "Epoch 14/30\n",
      "358/358 [==============================] - 53s 146ms/step - loss: 0.1355 - accuracy: 0.9543 - val_loss: 0.2595 - val_accuracy: 0.9247\n"
     ]
    },
    {
     "data": {
      "text/plain": [
       "<tensorflow.python.keras.callbacks.History at 0x7f2d07d8c790>"
      ]
     },
     "execution_count": 64,
     "metadata": {
      "tags": []
     },
     "output_type": "execute_result"
    }
   ],
   "source": [
    "# with callbacks\n",
    "cnn.fit(\n",
    "    train_ds ,\n",
    "    epochs=30, \n",
    "    validation_data=val_ds, \n",
    "    callbacks=callbacks_list\n",
    ")"
   ]
  },
  {
   "cell_type": "code",
   "execution_count": null,
   "metadata": {
    "colab": {
     "base_uri": "https://localhost:8080/"
    },
    "id": "i2oKMTuY2s2w",
    "outputId": "3857ca93-7ba7-4f54-d9fe-ab99adc18818"
   },
   "outputs": [
    {
     "name": "stdout",
     "output_type": "stream",
     "text": [
      "77/77 [==============================] - 8s 93ms/step - loss: 0.2279 - accuracy: 0.9337\n",
      "The testing accuracy is : 93.3742344379425 %\n"
     ]
    }
   ],
   "source": [
    "test_accu = cnn.evaluate(test_ds)\n",
    "print('The testing accuracy is :',test_accu[1]*100, '%')"
   ]
  },
  {
   "cell_type": "code",
   "execution_count": null,
   "metadata": {
    "colab": {
     "base_uri": "https://localhost:8080/"
    },
    "id": "l0m8tW7s2s4w",
    "outputId": "2e6e92f6-daa6-4f5a-ea6b-0e8bb25a693f"
   },
   "outputs": [
    {
     "name": "stdout",
     "output_type": "stream",
     "text": [
      "77/77 [==============================] - 6s 71ms/step\n"
     ]
    }
   ],
   "source": [
    "pred = cnn.predict(test_ds,verbose=1)\n",
    "true_categories = tf.concat([y for x, y in test_ds], axis=0)\n",
    "# print((true_categories), set(true_categories.numpy().argmax(axis=1)))\n",
    "\n",
    "preds = []\n",
    "for v in pred:\n",
    "    x = []\n",
    "    i = max(v)\n",
    "    for val in v:\n",
    "        if val == i:\n",
    "            x.append(1)\n",
    "        else:\n",
    "            x.append(0)\n",
    "    preds.append(x)\n",
    "\n",
    "true_categories = true_categories.numpy().argmax(axis=1)\n",
    "preds = np.array(preds).argmax(axis=1)"
   ]
  },
  {
   "cell_type": "code",
   "execution_count": null,
   "metadata": {
    "colab": {
     "base_uri": "https://localhost:8080/",
     "height": 600
    },
    "id": "d2czgYkF8sSy",
    "outputId": "5c4ee41e-aaf3-4359-9a99-271caa786553"
   },
   "outputs": [
    {
     "name": "stdout",
     "output_type": "stream",
     "text": [
      "[[130  51 117 130 112]\n",
      " [ 51  27  50  71  56]\n",
      " [ 99  56  94 136  95]\n",
      " [159  61 120 173 132]\n",
      " [116  56  96 138 119]]\n"
     ]
    },
    {
     "data": {
      "image/png": "[encoded data removed]",
      "text/plain": [
       "<Figure size 576x576 with 1 Axes>"
      ]
     },
     "metadata": {
      "tags": []
     },
     "output_type": "display_data"
    }
   ],
   "source": [
    "cm = confusion_matrix(true_categories, preds)\n",
    "print(cm)\n",
    "fig = plt.figure(figsize = (8,8))\n",
    "ax1 = fig.add_subplot(1,1,1)\n",
    "sns.set(font_scale=1.4) #for label size\n",
    "sns.heatmap(cm, annot=True, annot_kws={\"size\": 12},\n",
    "     cbar = False, cmap='Purples');\n",
    "ax1.set_ylabel('True Values',fontsize=14)\n",
    "ax1.set_xlabel('Predicted Values',fontsize=14)\n",
    "plt.show()"
   ]
  },
  {
   "cell_type": "code",
   "execution_count": null,
   "metadata": {
    "colab": {
     "base_uri": "https://localhost:8080/"
    },
    "id": "uIFQvT0x8sUs",
    "outputId": "8c1f6200-9e12-47e5-f57a-3b0b5d7bf0ab"
   },
   "outputs": [
    {
     "name": "stdout",
     "output_type": "stream",
     "text": [
      "              precision    recall  f1-score   support\n",
      "\n",
      "           0       0.23      0.24      0.24       540\n",
      "           1       0.11      0.11      0.11       255\n",
      "           2       0.20      0.20      0.20       480\n",
      "           3       0.27      0.27      0.27       645\n",
      "           4       0.23      0.23      0.23       525\n",
      "\n",
      "    accuracy                           0.22      2445\n",
      "   macro avg       0.21      0.21      0.21      2445\n",
      "weighted avg       0.22      0.22      0.22      2445\n",
      "\n"
     ]
    }
   ],
   "source": [
    "print(classification_report(true_categories, preds))"
   ]
  },
  {
   "cell_type": "code",
   "execution_count": null,
   "metadata": {
    "id": "-xe1ctza9D6F"
   },
   "outputs": [],
   "source": []
  },
  {
   "cell_type": "code",
   "execution_count": null,
   "metadata": {
    "id": "8MHR6zto9EGL"
   },
   "outputs": [],
   "source": []
  },
  {
   "cell_type": "code",
   "execution_count": null,
   "metadata": {
    "id": "5TokPaoP8sXD"
   },
   "outputs": [],
   "source": []
  },
  {
   "cell_type": "code",
   "execution_count": null,
   "metadata": {
    "id": "kmP0tX6i8sZT"
   },
   "outputs": [],
   "source": []
  },
  {
   "cell_type": "code",
   "execution_count": null,
   "metadata": {
    "id": "1F9ZTaAQ8sdF"
   },
   "outputs": [],
   "source": []
  },
  {
   "cell_type": "code",
   "execution_count": null,
   "metadata": {
    "id": "KtQYOcW52s8d"
   },
   "outputs": [],
   "source": [
    "!ls \"/content/drive/MyDrive/Colab Notebooks/Major/Data/test/COVID\""
   ]
  },
  {
   "cell_type": "code",
   "execution_count": null,
   "metadata": {
    "colab": {
     "base_uri": "https://localhost:8080/"
    },
    "id": "LoNeEq0FmE4R",
    "outputId": "27b544d5-0c3e-4d7b-f1c4-ed3fa2257c6f"
   },
   "outputs": [
    {
     "name": "stdout",
     "output_type": "stream",
     "text": [
      "16337\n"
     ]
    }
   ],
   "source": [
    "!find \"/content/drive/MyDrive/Colab Notebooks/Major/Data\" -type f | wc -l"
   ]
  },
  {
   "cell_type": "code",
   "execution_count": null,
   "metadata": {
    "id": "aRRNSUIzngUW"
   },
   "outputs": [],
   "source": [
    "# a = len(np.concatenate([i for x, i in train_ds], axis=0))\n",
    "# b = len(np.concatenate([i for x, i in test_ds], axis=0))\n",
    "# c = len(np.concatenate([i for x, i in val_ds], axis=0))\n",
    "\n",
    "# print(a+b+c)"
   ]
  },
  {
   "cell_type": "code",
   "execution_count": null,
   "metadata": {
    "id": "XGUU46cIoCQY"
   },
   "outputs": [],
   "source": []
  }
 ],
 "metadata": {
  "accelerator": "GPU",
  "colab": {
   "collapsed_sections": [],
   "name": "CNN - 4conv+2dense - without and with callbacks(lr+stop).ipynb",
   "provenance": []
  },
  "kernelspec": {
   "display_name": "Python 3",
   "language": "python",
   "name": "python3"
  },
  "language_info": {
   "codemirror_mode": {
    "name": "ipython",
    "version": 3
   },
   "file_extension": ".py",
   "mimetype": "text/x-python",
   "name": "python",
   "nbconvert_exporter": "python",
   "pygments_lexer": "ipython3",
   "version": "3.7.3"
  }
 },
 "nbformat": 4,
 "nbformat_minor": 1
}
