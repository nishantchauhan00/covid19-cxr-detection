{
 "cells": [
  {
   "cell_type": "code",
   "execution_count": 1,
   "metadata": {
    "id": "bxFC9QUmpEEg"
   },
   "outputs": [],
   "source": [
    "import pandas as pd\n",
    "import numpy as np\n",
    "import os\n",
    "import tensorflow as tf\n",
    "import cv2\n",
    "from tensorflow.keras import layers\n",
    "from tensorflow.keras.layers import Dense, Input, InputLayer, Flatten, BatchNormalization, Dropout, GlobalAveragePooling2D\n",
    "from tensorflow.keras.models import Sequential, Model\n",
    "from  matplotlib import pyplot as plt\n",
    "from sklearn.model_selection import train_test_split\n",
    "from tensorflow.keras.models import Sequential,load_model,save_model\n",
    "from tensorflow.keras.layers import Dense,Conv2D,Flatten,MaxPooling2D\n",
    "from tensorflow.keras.callbacks import EarlyStopping,ReduceLROnPlateau\n",
    "from keras.layers import Conv2D, MaxPooling2D\n",
    "import matplotlib.image as mpimg\n",
    "%matplotlib inline"
   ]
  },
  {
   "cell_type": "code",
   "execution_count": 4,
   "metadata": {
    "id": "ycUBSsY6pSyr"
   },
   "outputs": [],
   "source": [
    "batch_size = 16\n",
    "img_height = 299\n",
    "img_width = 299\n",
    "image_size = (img_height, img_width)"
   ]
  },
  {
   "cell_type": "code",
   "execution_count": 7,
   "metadata": {
    "colab": {
     "base_uri": "https://localhost:8080/"
    },
    "id": "XC9brN9_pXB9",
    "outputId": "ca42fafc-dc08-488e-996b-82d4d2782b3b"
   },
   "outputs": [
    {
     "name": "stdout",
     "output_type": "stream",
     "text": [
      "Found 11447 files belonging to 5 classes.\n",
      "Found 2445 files belonging to 5 classes.\n",
      "Found 2445 files belonging to 5 classes.\n"
     ]
    }
   ],
   "source": [
    "data_dir1 = \"/content/drive/MyDrive/Colab Notebooks/Major/Data/train\"\n",
    "data_dir2 = \"/content/drive/MyDrive/Colab Notebooks/Major/Data/val\"\n",
    "data_dir3 = \"/content/drive/MyDrive/Colab Notebooks/Major/Data/test\"\n",
    "train_ds = tf.keras.preprocessing.image_dataset_from_directory(\n",
    "  data_dir1,\n",
    "  validation_split=None,\n",
    "  shuffle=True,\n",
    "  image_size=(img_height, img_width),\n",
    "  subset=None,\n",
    "  seed=123,\n",
    "  batch_size=batch_size,\n",
    "  label_mode='categorical'\n",
    ")\n",
    "val_ds = tf.keras.preprocessing.image_dataset_from_directory(\n",
    "  data_dir2,\n",
    "  validation_split=None,\n",
    "  shuffle=True,\n",
    "  image_size=(img_height, img_width),\n",
    "  subset=None,\n",
    "  seed=123,\n",
    "  batch_size=batch_size,\n",
    "  label_mode='categorical'\n",
    ")\n",
    "\n",
    "# because of this all my model got wrong\n",
    "# test_ds = tf.keras.preprocessing.image_dataset_from_directory(\n",
    "#   data_dir3,\n",
    "#   validation_split=None,\n",
    "#   shuffle=True,\n",
    "#   image_size=(img_height, img_width),\n",
    "#   subset=None,\n",
    "#   seed=123,\n",
    "#   batch_size=batch_size,\n",
    "#   label_mode='categorical'\n",
    "# )"
   ]
  },
  {
   "cell_type": "code",
   "execution_count": 8,
   "metadata": {
    "id": "2rKeQWA_pZgq"
   },
   "outputs": [],
   "source": [
    "cnn= Sequential([\n",
    "  #cnn layer \n",
    "\n",
    "  layers.Conv2D(filters=32,kernel_size=(3,3),activation='relu',padding='same',input_shape=(img_height,img_width,3)),\n",
    "  layers.Conv2D(filters=32,kernel_size=(3,3),activation='relu',padding='same'),\n",
    "  layers.MaxPool2D(pool_size=(2,2)),\n",
    "\n",
    "  layers.Conv2D(filters=32,kernel_size=(3,3),activation='relu',padding='same'),\n",
    "  layers.Conv2D(filters=32,kernel_size=(3,3),activation='relu',padding='same'),\n",
    "  layers.MaxPool2D(pool_size=(2,2)),\n",
    "\n",
    "  layers.Conv2D(filters=32,kernel_size=(3,3),activation='relu',padding='same'),\n",
    "  layers.BatchNormalization(),\n",
    "  layers.MaxPool2D(pool_size=(2,2)),\n",
    "\n",
    "  layers.Flatten(),\n",
    "  layers.Dense(128, activation='relu'),\n",
    "  layers.Dropout(rate=0.5),\n",
    "  layers.Dense(64, activation=\"relu\"),\n",
    "  layers.Dense(5, activation=\"softmax\")\n",
    "\n",
    "])"
   ]
  },
  {
   "cell_type": "code",
   "execution_count": 9,
   "metadata": {
    "colab": {
     "base_uri": "https://localhost:8080/"
    },
    "id": "9O_r7kTJqWKp",
    "outputId": "96f5fc27-6674-43a0-e8aa-c67c258e4258"
   },
   "outputs": [
    {
     "name": "stdout",
     "output_type": "stream",
     "text": [
      "Model: \"sequential\"\n",
      "_________________________________________________________________\n",
      "Layer (type)                 Output Shape              Param #   \n",
      "=================================================================\n",
      "conv2d (Conv2D)              (None, 299, 299, 32)      896       \n",
      "_________________________________________________________________\n",
      "conv2d_1 (Conv2D)            (None, 299, 299, 32)      9248      \n",
      "_________________________________________________________________\n",
      "max_pooling2d (MaxPooling2D) (None, 149, 149, 32)      0         \n",
      "_________________________________________________________________\n",
      "conv2d_2 (Conv2D)            (None, 149, 149, 32)      9248      \n",
      "_________________________________________________________________\n",
      "conv2d_3 (Conv2D)            (None, 149, 149, 32)      9248      \n",
      "_________________________________________________________________\n",
      "max_pooling2d_1 (MaxPooling2 (None, 74, 74, 32)        0         \n",
      "_________________________________________________________________\n",
      "conv2d_4 (Conv2D)            (None, 74, 74, 32)        9248      \n",
      "_________________________________________________________________\n",
      "batch_normalization (BatchNo (None, 74, 74, 32)        128       \n",
      "_________________________________________________________________\n",
      "max_pooling2d_2 (MaxPooling2 (None, 37, 37, 32)        0         \n",
      "_________________________________________________________________\n",
      "flatten (Flatten)            (None, 43808)             0         \n",
      "_________________________________________________________________\n",
      "dense (Dense)                (None, 128)               5607552   \n",
      "_________________________________________________________________\n",
      "dropout (Dropout)            (None, 128)               0         \n",
      "_________________________________________________________________\n",
      "dense_1 (Dense)              (None, 64)                8256      \n",
      "_________________________________________________________________\n",
      "dense_2 (Dense)              (None, 5)                 325       \n",
      "=================================================================\n",
      "Total params: 5,654,149\n",
      "Trainable params: 5,654,085\n",
      "Non-trainable params: 64\n",
      "_________________________________________________________________\n"
     ]
    }
   ],
   "source": [
    "cnn.summary()"
   ]
  },
  {
   "cell_type": "code",
   "execution_count": 10,
   "metadata": {
    "id": "r2W2ezHIqaRn"
   },
   "outputs": [],
   "source": [
    "early = EarlyStopping(monitor=\"val_loss\", \n",
    "                      mode=\"min\", \n",
    "                      patience=3)\n",
    "\n",
    "learning_rate_reduction = ReduceLROnPlateau(monitor='val_loss', patience = 2, verbose=1,factor=0.3, min_lr=0.000001)\n",
    "\n",
    "callbacks_list = [ early, learning_rate_reduction]"
   ]
  },
  {
   "cell_type": "code",
   "execution_count": 13,
   "metadata": {
    "id": "gWqZjJtcrFqj"
   },
   "outputs": [],
   "source": [
    "cnn.compile(optimizer = 'adam', loss = 'categorical_crossentropy', metrics = ['accuracy'])"
   ]
  },
  {
   "cell_type": "code",
   "execution_count": 14,
   "metadata": {
    "colab": {
     "base_uri": "https://localhost:8080/"
    },
    "id": "pW2NR9PBqcEu",
    "outputId": "ecce96ea-9979-4541-fe04-60009d5d390a"
   },
   "outputs": [
    {
     "name": "stdout",
     "output_type": "stream",
     "text": [
      "Epoch 1/30\n",
      "716/716 [==============================] - 2072s 3s/step - loss: 1.3286 - accuracy: 0.6118 - val_loss: 2.5372 - val_accuracy: 0.5235\n",
      "Epoch 2/30\n",
      "716/716 [==============================] - 88s 123ms/step - loss: 0.9049 - accuracy: 0.6884 - val_loss: 0.7345 - val_accuracy: 0.7603\n",
      "Epoch 3/30\n",
      "716/716 [==============================] - 89s 123ms/step - loss: 0.7252 - accuracy: 0.7507 - val_loss: 0.6530 - val_accuracy: 0.7628\n",
      "Epoch 4/30\n",
      "716/716 [==============================] - 88s 123ms/step - loss: 0.6444 - accuracy: 0.7813 - val_loss: 0.6282 - val_accuracy: 0.8115\n",
      "Epoch 5/30\n",
      "716/716 [==============================] - 88s 122ms/step - loss: 0.5419 - accuracy: 0.8208 - val_loss: 0.9322 - val_accuracy: 0.7370\n",
      "Epoch 6/30\n",
      "716/716 [==============================] - 88s 122ms/step - loss: 0.4652 - accuracy: 0.8444 - val_loss: 0.6035 - val_accuracy: 0.8184\n",
      "Epoch 7/30\n",
      "716/716 [==============================] - 88s 122ms/step - loss: 0.4128 - accuracy: 0.8593 - val_loss: 0.4982 - val_accuracy: 0.8577\n",
      "Epoch 8/30\n",
      "716/716 [==============================] - 88s 122ms/step - loss: 0.3693 - accuracy: 0.8766 - val_loss: 0.3415 - val_accuracy: 0.8871\n",
      "Epoch 9/30\n",
      "716/716 [==============================] - 88s 122ms/step - loss: 0.3217 - accuracy: 0.8924 - val_loss: 0.3486 - val_accuracy: 0.8687\n",
      "Epoch 10/30\n",
      "716/716 [==============================] - 88s 122ms/step - loss: 0.2889 - accuracy: 0.9087 - val_loss: 0.3314 - val_accuracy: 0.9014\n",
      "Epoch 11/30\n",
      "716/716 [==============================] - 88s 122ms/step - loss: 0.2685 - accuracy: 0.9157 - val_loss: 0.4690 - val_accuracy: 0.8703\n",
      "Epoch 12/30\n",
      "716/716 [==============================] - 88s 122ms/step - loss: 0.2513 - accuracy: 0.9185 - val_loss: 0.6438 - val_accuracy: 0.8327\n",
      "\n",
      "Epoch 00012: ReduceLROnPlateau reducing learning rate to 0.0003000000142492354.\n",
      "Epoch 13/30\n",
      "716/716 [==============================] - 88s 122ms/step - loss: 0.1965 - accuracy: 0.9360 - val_loss: 0.2061 - val_accuracy: 0.9387\n",
      "Epoch 14/30\n",
      "716/716 [==============================] - 89s 124ms/step - loss: 0.1541 - accuracy: 0.9499 - val_loss: 0.1944 - val_accuracy: 0.9452\n",
      "Epoch 15/30\n",
      "716/716 [==============================] - 88s 123ms/step - loss: 0.1382 - accuracy: 0.9547 - val_loss: 0.2123 - val_accuracy: 0.9403\n",
      "Epoch 16/30\n",
      "716/716 [==============================] - 88s 122ms/step - loss: 0.1265 - accuracy: 0.9570 - val_loss: 0.2502 - val_accuracy: 0.9391\n",
      "\n",
      "Epoch 00016: ReduceLROnPlateau reducing learning rate to 9.000000427477062e-05.\n",
      "Epoch 17/30\n",
      "716/716 [==============================] - 88s 123ms/step - loss: 0.1126 - accuracy: 0.9631 - val_loss: 0.1722 - val_accuracy: 0.9542\n",
      "Epoch 18/30\n",
      "716/716 [==============================] - 88s 122ms/step - loss: 0.1024 - accuracy: 0.9655 - val_loss: 0.1718 - val_accuracy: 0.9571\n",
      "Epoch 19/30\n",
      "716/716 [==============================] - 88s 122ms/step - loss: 0.1025 - accuracy: 0.9653 - val_loss: 0.1789 - val_accuracy: 0.9517\n",
      "Epoch 20/30\n",
      "716/716 [==============================] - 88s 122ms/step - loss: 0.0927 - accuracy: 0.9692 - val_loss: 0.1723 - val_accuracy: 0.9550\n",
      "\n",
      "Epoch 00020: ReduceLROnPlateau reducing learning rate to 2.700000040931627e-05.\n",
      "Epoch 21/30\n",
      "716/716 [==============================] - 88s 123ms/step - loss: 0.0839 - accuracy: 0.9710 - val_loss: 0.1742 - val_accuracy: 0.9587\n"
     ]
    },
    {
     "data": {
      "text/plain": [
       "<tensorflow.python.keras.callbacks.History at 0x7f654e2fde90>"
      ]
     },
     "execution_count": 14,
     "metadata": {
      "tags": []
     },
     "output_type": "execute_result"
    }
   ],
   "source": [
    "# without callbacks\n",
    "cnn.fit(\n",
    "    train_ds ,\n",
    "    epochs=30, \n",
    "    validation_data=val_ds, \n",
    "    callbacks=callbacks_list\n",
    ")"
   ]
  },
  {
   "cell_type": "code",
   "execution_count": 21,
   "metadata": {
    "colab": {
     "base_uri": "https://localhost:8080/"
    },
    "id": "jvuyVRoLq_A9",
    "outputId": "d253564b-dc95-49c6-ca8f-72374168d2d4"
   },
   "outputs": [
    {
     "name": "stdout",
     "output_type": "stream",
     "text": [
      "153/153 [==============================] - 11s 67ms/step - loss: 0.1838 - accuracy: 0.9521\n",
      "The testing accuracy is : 95.21472454071045 %\n"
     ]
    }
   ],
   "source": [
    "test_accu = cnn.evaluate(test_ds)\n",
    "print('The testing accuracy is :',test_accu[1]*100, '%')"
   ]
  },
  {
   "cell_type": "code",
   "execution_count": 17,
   "metadata": {
    "id": "uV0CSlQO-amK"
   },
   "outputs": [],
   "source": [
    "import seaborn as sns\n",
    "from sklearn.metrics import confusion_matrix, classification_report"
   ]
  },
  {
   "cell_type": "code",
   "execution_count": 31,
   "metadata": {
    "id": "xq4x1q00Clgn"
   },
   "outputs": [],
   "source": [
    "# plt.figure(figsize=(10,5))\n",
    "# epochs=range(1,len(history.history['val_accuracy'])+1)\n",
    "\n",
    "# plt.plot(epochs,history.history[\"accuracy\"])\n",
    "# plt.plot(epochs,history.history['val_accuracy'])\n",
    "# plt.title('model accuracy')\n",
    "# plt.ylabel('accuracy')\n",
    "# plt.xlabel('epoch')\n",
    "# plt.legend(['train', 'val'], loc='upper left')\n",
    "# plt.show()"
   ]
  },
  {
   "cell_type": "code",
   "execution_count": 32,
   "metadata": {
    "id": "kB4vcBLlC-D8"
   },
   "outputs": [],
   "source": [
    "# plt.figure(figsize=(10,5))\n",
    "# epochs=range(1,len(History.history['val_loss'])+1)\n",
    "\n",
    "# plt.plot(epochs,History.history[\"loss\"])\n",
    "# plt.plot(epochs,History.history['val_loss'])\n",
    "# plt.title('model loss')\n",
    "# plt.ylabel('loss')\n",
    "# plt.xlabel('epoch')\n",
    "# plt.legend(['train', 'val'], loc='upper left')\n",
    "# plt.show()"
   ]
  },
  {
   "cell_type": "code",
   "execution_count": 55,
   "metadata": {
    "colab": {
     "base_uri": "https://localhost:8080/"
    },
    "id": "4n8f4R50L5eP",
    "outputId": "01177a60-4329-4705-dc86-70c5e127dd42"
   },
   "outputs": [
    {
     "name": "stdout",
     "output_type": "stream",
     "text": [
      "Found 2445 files belonging to 5 classes.\n"
     ]
    }
   ],
   "source": [
    "test_ds = tf.keras.preprocessing.image_dataset_from_directory(\n",
    "  data_dir3,\n",
    "  shuffle=False,\n",
    "  image_size=(img_height, img_width),\n",
    "  label_mode='categorical'\n",
    ")"
   ]
  },
  {
   "cell_type": "code",
   "execution_count": 56,
   "metadata": {
    "colab": {
     "base_uri": "https://localhost:8080/"
    },
    "id": "oUV8m3bXL92m",
    "outputId": "5aef82be-f601-4e8a-bf1c-a412145b43aa"
   },
   "outputs": [
    {
     "name": "stdout",
     "output_type": "stream",
     "text": [
      "77/77 [==============================] - 7s 80ms/step\n"
     ]
    }
   ],
   "source": [
    "pred = cnn.predict(test_ds,verbose=1)\n",
    "p = pred.copy()"
   ]
  },
  {
   "cell_type": "code",
   "execution_count": 57,
   "metadata": {
    "colab": {
     "base_uri": "https://localhost:8080/"
    },
    "id": "lGu3qj_cL-jb",
    "outputId": "638a5513-0c36-480f-ee21-82d08e32b110"
   },
   "outputs": [
    {
     "name": "stdout",
     "output_type": "stream",
     "text": [
      "(2445,)\n",
      "[0 0 0 ... 4 4 4]\n"
     ]
    }
   ],
   "source": [
    "prediction =np.argmax(pred,axis=1)\n",
    "print(prediction.shape)\n",
    "print(prediction)"
   ]
  },
  {
   "cell_type": "code",
   "execution_count": 58,
   "metadata": {
    "colab": {
     "base_uri": "https://localhost:8080/"
    },
    "id": "KwT0SDHeMC8g",
    "outputId": "f03a8c6f-ef4b-4865-c3b6-2f8401f16f8d"
   },
   "outputs": [
    {
     "name": "stdout",
     "output_type": "stream",
     "text": [
      "tf.Tensor(\n",
      "[[1. 0. 0. 0. 0.]\n",
      " [1. 0. 0. 0. 0.]\n",
      " [1. 0. 0. 0. 0.]\n",
      " ...\n",
      " [0. 0. 0. 0. 1.]\n",
      " [0. 0. 0. 0. 1.]\n",
      " [0. 0. 0. 0. 1.]], shape=(2445, 5), dtype=float32)\n"
     ]
    }
   ],
   "source": [
    "true_categories = tf.concat([y for x, y in test_ds], axis=0)\n",
    "print(true_categories)"
   ]
  },
  {
   "cell_type": "code",
   "execution_count": 59,
   "metadata": {
    "id": "Fp4It11nMFsc"
   },
   "outputs": [],
   "source": [
    "tc = np.argmax(true_categories,axis=1)"
   ]
  },
  {
   "cell_type": "code",
   "execution_count": 60,
   "metadata": {
    "colab": {
     "base_uri": "https://localhost:8080/"
    },
    "id": "XlQaBrHIM2rY",
    "outputId": "afa98f00-05ae-4757-f065-fa44f304662b"
   },
   "outputs": [
    {
     "name": "stdout",
     "output_type": "stream",
     "text": [
      "[0 0 0 ... 4 4 4]\n"
     ]
    }
   ],
   "source": [
    "print(tc)"
   ]
  },
  {
   "cell_type": "code",
   "execution_count": 61,
   "metadata": {
    "colab": {
     "base_uri": "https://localhost:8080/"
    },
    "id": "bJTGwnO8M4yo",
    "outputId": "c89283d2-a234-4986-db3b-b19e7d305d8b"
   },
   "outputs": [
    {
     "name": "stdout",
     "output_type": "stream",
     "text": [
      "[[512  26   3   2  11]\n",
      " [ 11 222   0   0   4]\n",
      " [  2   0 461  18   0]\n",
      " [  1   1  16 625   2]\n",
      " [ 14   6   0   0 508]]\n"
     ]
    }
   ],
   "source": [
    "print(confusion_matrix(prediction, tc))"
   ]
  },
  {
   "cell_type": "code",
   "execution_count": 62,
   "metadata": {
    "colab": {
     "base_uri": "https://localhost:8080/"
    },
    "id": "7PHXIOpBM9Su",
    "outputId": "34ecb024-0efb-4153-e053-77f8a194af08"
   },
   "outputs": [
    {
     "name": "stdout",
     "output_type": "stream",
     "text": [
      "              precision    recall  f1-score   support\n",
      "\n",
      "           0       0.95      0.92      0.94       554\n",
      "           1       0.87      0.94      0.90       237\n",
      "           2       0.96      0.96      0.96       481\n",
      "           3       0.97      0.97      0.97       645\n",
      "           4       0.97      0.96      0.96       528\n",
      "\n",
      "    accuracy                           0.95      2445\n",
      "   macro avg       0.94      0.95      0.95      2445\n",
      "weighted avg       0.95      0.95      0.95      2445\n",
      "\n"
     ]
    }
   ],
   "source": [
    "print(classification_report(prediction, tc))"
   ]
  },
  {
   "cell_type": "code",
   "execution_count": 64,
   "metadata": {
    "colab": {
     "base_uri": "https://localhost:8080/",
     "height": 508
    },
    "id": "eGNqcHKtOGOS",
    "outputId": "09b80caa-7335-4c68-e9d6-07e0d465a851"
   },
   "outputs": [
    {
     "data": {
      "image/png": "[encoded data removed]",
      "text/plain": [
       "<Figure size 576x576 with 1 Axes>"
      ]
     },
     "metadata": {
      "tags": []
     },
     "output_type": "display_data"
    }
   ],
   "source": [
    "cm = confusion_matrix(tc, prediction)\n",
    "fig = plt.figure(figsize = (8,8))\n",
    "ax1 = fig.add_subplot(1,1,1)\n",
    "sns.set(font_scale=1.4) #for label size\n",
    "sns.heatmap(cm, annot=True, annot_kws={\"size\": 12},\n",
    "     cbar = False, cmap='Purples');\n",
    "ax1.set_ylabel('True Values',fontsize=14)\n",
    "ax1.set_xlabel('Predicted Values',fontsize=14)\n",
    "plt.show()"
   ]
  },
  {
   "cell_type": "code",
   "execution_count": null,
   "metadata": {
    "id": "kwZTF2ISO3jM"
   },
   "outputs": [],
   "source": []
  }
 ],
 "metadata": {
  "accelerator": "GPU",
  "colab": {
   "name": "CNN model - 5conv 3mp 1bn 3den.ipynb",
   "provenance": []
  },
  "kernelspec": {
   "display_name": "Python 3",
   "language": "python",
   "name": "python3"
  },
  "language_info": {
   "codemirror_mode": {
    "name": "ipython",
    "version": 3
   },
   "file_extension": ".py",
   "mimetype": "text/x-python",
   "name": "python",
   "nbconvert_exporter": "python",
   "pygments_lexer": "ipython3",
   "version": "3.7.3"
  }
 },
 "nbformat": 4,
 "nbformat_minor": 1
}
