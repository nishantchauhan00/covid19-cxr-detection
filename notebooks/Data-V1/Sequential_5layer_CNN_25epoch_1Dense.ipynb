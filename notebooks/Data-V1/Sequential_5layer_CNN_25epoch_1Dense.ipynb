{
  "nbformat": 4,
  "nbformat_minor": 0,
  "metadata": {
    "colab": {
      "name": "Sequential - 5layer CNN - 25epoch - 1Dense.ipynb",
      "provenance": [],
      "collapsed_sections": []
    },
    "kernelspec": {
      "name": "python3",
      "display_name": "Python 3"
    },
    "language_info": {
      "name": "python"
    },
    "accelerator": "GPU"
  },
  "cells": [
    {
      "cell_type": "code",
      "metadata": {
        "colab": {
          "base_uri": "https://localhost:8080/"
        },
        "id": "-bBCEnXKY5d_",
        "outputId": "36e578e9-70fc-4640-805e-1e3d65d494d4"
      },
      "source": [
        "!pwd"
      ],
      "execution_count": null,
      "outputs": [
        {
          "output_type": "stream",
          "text": [
            "/content\n"
          ],
          "name": "stdout"
        }
      ]
    },
    {
      "cell_type": "code",
      "metadata": {
        "id": "N1-Bv2KVh_oR"
      },
      "source": [
        "import pandas as pd\n",
        "import numpy as np\n",
        "import os\n",
        "import tensorflow as tf\n",
        "import cv2\n",
        "from tensorflow.keras import layers\n",
        "from tensorflow.keras.layers import Dense, Input, InputLayer, Flatten, BatchNormalization, Dropout\n",
        "from tensorflow.keras.models import Sequential, Model\n",
        "from  matplotlib import pyplot as plt\n",
        "from sklearn.model_selection import train_test_split\n",
        "import matplotlib.image as mpimg\n",
        "%matplotlib inline"
      ],
      "execution_count": 1,
      "outputs": []
    },
    {
      "cell_type": "code",
      "metadata": {
        "colab": {
          "resources": {
            "http://localhost:8080/nbextensions/google.colab/files.js": {
              "data": "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",
              "ok": true,
              "headers": [
                [
                  "content-type",
                  "application/javascript"
                ]
              ],
              "status": 200,
              "status_text": ""
            }
          },
          "base_uri": "https://localhost:8080/",
          "height": 73
        },
        "id": "ZBZIOsUSZKYx",
        "outputId": "3e590560-3d2a-4cea-e11d-f3874ada8158"
      },
      "source": [
        "! pip install -q kaggle\n",
        "from google.colab import files\n",
        "files.upload()\n",
        "! mkdir ~/.kaggle\n",
        "! cp kaggle.json ~/.kaggle/\n",
        "! chmod 600 ~/.kaggle/kaggle.json"
      ],
      "execution_count": null,
      "outputs": [
        {
          "output_type": "display_data",
          "data": {
            "text/html": [
              "\n",
              "     <input type=\"file\" id=\"files-a8f49dca-64b7-4e6e-9d2c-4eea4597352e\" name=\"files[]\" multiple disabled\n",
              "        style=\"border:none\" />\n",
              "     <output id=\"result-a8f49dca-64b7-4e6e-9d2c-4eea4597352e\">\n",
              "      Upload widget is only available when the cell has been executed in the\n",
              "      current browser session. Please rerun this cell to enable.\n",
              "      </output>\n",
              "      <script src=\"/nbextensions/google.colab/files.js\"></script> "
            ],
            "text/plain": [
              "<IPython.core.display.HTML object>"
            ]
          },
          "metadata": {
            "tags": []
          }
        },
        {
          "output_type": "stream",
          "text": [
            "Saving kaggle.json to kaggle (1).json\n"
          ],
          "name": "stdout"
        }
      ]
    },
    {
      "cell_type": "code",
      "metadata": {
        "colab": {
          "base_uri": "https://localhost:8080/"
        },
        "id": "6LPs4WseZqUj",
        "outputId": "0ea8f28e-9547-4b3c-f764-d1ab870ff19d"
      },
      "source": [
        "! kaggle datasets download -d donjon00/covid19-detection"
      ],
      "execution_count": null,
      "outputs": [
        {
          "output_type": "stream",
          "text": [
            "Downloading covid19-detection.zip to /content\n",
            "100% 3.07G/3.08G [00:34<00:00, 47.0MB/s]\n",
            "100% 3.08G/3.08G [00:34<00:00, 96.5MB/s]\n"
          ],
          "name": "stdout"
        }
      ]
    },
    {
      "cell_type": "code",
      "metadata": {
        "id": "mQs1XhbWdrna"
      },
      "source": [
        "cp \"/content/covid19-detection.zip\" \"/content/drive/MyDrive/Colab Notebooks/Major/covid19-detection.zip\""
      ],
      "execution_count": null,
      "outputs": []
    },
    {
      "cell_type": "code",
      "metadata": {
        "id": "KZHSuTUeapeP"
      },
      "source": [
        "zf = \"/content/covid19-detection.zip\"\n",
        "target_dir = \"/content/drive/MyDrive/Colab Notebooks/Major/Data\"\n",
        "\n",
        "!unzip -qq \"/content/drive/MyDrive/Colab Notebooks/Major/covid19-detection.zip\" -d \"/content/drive/MyDrive/Colab Notebooks/Major\""
      ],
      "execution_count": null,
      "outputs": []
    },
    {
      "cell_type": "code",
      "metadata": {
        "id": "dDT6CoS0bxRE"
      },
      "source": [
        "IMG_HEIGHT = 299\n",
        "IMG_WIDTH = 299\n",
        "\n",
        "!rm -r \"/content/drive/MyDrive/Colab Notebooks/Major/Data1/\"\n",
        "!mkdir \"/content/drive/MyDrive/Colab Notebooks/Major/Data1/\"\n",
        "!cd \"/content/drive/MyDrive/Colab Notebooks/Major/Data1/\" && mkdir train test val\n",
        "!cd \"/content/drive/MyDrive/Colab Notebooks/Major/Data1/train\" && mkdir Normal PNEUMONIA COVID Fibrosis Tuberculosis\n",
        "!cd \"/content/drive/MyDrive/Colab Notebooks/Major/Data1/test\" && mkdir Normal PNEUMONIA COVID Fibrosis Tuberculosis\n",
        "!cd \"/content/drive/MyDrive/Colab Notebooks/Major/Data1/val\" && mkdir Normal PNEUMONIA COVID Fibrosis Tuberculosis"
      ],
      "execution_count": null,
      "outputs": []
    },
    {
      "cell_type": "code",
      "metadata": {
        "id": "FFjOde7ihewW"
      },
      "source": [
        "def create_dataset(img_folder):\n",
        "    #img_data_array=[]\n",
        "    #class_name=[]\n",
        "    i = 1\n",
        "    for dir1 in os.listdir(img_folder):\n",
        "        for file in os.listdir(os.path.join(img_folder, dir1)):\n",
        "            image_path= os.path.join(img_folder, dir1,  file)\n",
        "            image= cv2.imread( image_path, cv2.COLOR_BGR2RGB)\n",
        "            # print(image, image_path)\n",
        "            image=cv2.resize(image, (IMG_HEIGHT, IMG_WIDTH),interpolation = cv2.INTER_AREA)\n",
        "            image=np.array(image)\n",
        "#             image = image.astype('float32')\n",
        "#             image /= 255 \n",
        "            #img_data_array.append(image)\n",
        "            #class_name.append(dir1)\n",
        "#             print(file, dir1)\n",
        "#             break\n",
        "            if i < 71:\n",
        "                cv2.imwrite(\"/content/drive/MyDrive/Colab Notebooks/Major/Data1/train/\" +dir1+\"/\"+file, image)\n",
        "            elif i < 86:\n",
        "                cv2.imwrite(\"/content/drive/MyDrive/Colab Notebooks/Major/Data1/test/\" +dir1+\"/\"+file, image)\n",
        "            else:\n",
        "                pat = \"/content/drive/MyDrive/Colab Notebooks/Major/Data1/val/\" +dir1+\"/\"+file\n",
        "                cv2.imwrite(pat, image)\n",
        "                # if i ==86:\n",
        "                    # print(pat)\n",
        "            i += 1\n",
        "            if i == 101:\n",
        "                i = 1\n",
        "        \n",
        "# extract the image array and class name\n",
        "# img_data, class_name = create_dataset(r'../input/covid19-detection/Data')\n",
        "create_dataset(r\"/content/drive/MyDrive/Colab Notebooks/Major/Data/\")"
      ],
      "execution_count": null,
      "outputs": []
    },
    {
      "cell_type": "code",
      "metadata": {
        "colab": {
          "base_uri": "https://localhost:8080/"
        },
        "id": "NSFvqjUMh5ur",
        "outputId": "7ef32616-845d-4d73-c0d5-73e54d241372"
      },
      "source": [
        "!ls \"/content/drive/MyDrive/Colab Notebooks/Major/Data/Normal\" | wc -l"
      ],
      "execution_count": null,
      "outputs": [
        {
          "output_type": "stream",
          "text": [
            "11767\n"
          ],
          "name": "stdout"
        }
      ]
    },
    {
      "cell_type": "code",
      "metadata": {
        "colab": {
          "base_uri": "https://localhost:8080/"
        },
        "id": "llRkwZ4binqq",
        "outputId": "9962cfbb-bc6c-4b5b-a996-c2ea3c67550b"
      },
      "source": [
        "!ls \"/content/drive/MyDrive/Colab Notebooks/Major/Data1/test/Normal\" | wc -l"
      ],
      "execution_count": null,
      "outputs": [
        {
          "output_type": "stream",
          "text": [
            "1755\n"
          ],
          "name": "stdout"
        }
      ]
    },
    {
      "cell_type": "code",
      "metadata": {
        "id": "fuksvwKzjXm6"
      },
      "source": [
        "batch_size = 32\n",
        "img_height = 299\n",
        "img_width = 299\n",
        "data_dir = \"/content/drive/MyDrive/Colab Notebooks/Major/Data\"\n",
        "image_size = (img_height, img_width)"
      ],
      "execution_count": 2,
      "outputs": []
    },
    {
      "cell_type": "code",
      "metadata": {
        "colab": {
          "base_uri": "https://localhost:8080/"
        },
        "id": "te5lQjBWpAc7",
        "outputId": "a20f54d5-51d5-4eec-c17f-24e3475d1059"
      },
      "source": [
        "# train_ds = tf.keras.preprocessing.image_dataset_from_directory(\n",
        "#     data_dir,\n",
        "#     validation_split=0.2,\n",
        "#     subset=\"training\",\n",
        "#     seed=1337,\n",
        "#     image_size=image_size,\n",
        "#     batch_size=batch_size,\n",
        "#     label_mode='categorical'\n",
        "# )\n",
        "# val_ds = tf.keras.preprocessing.image_dataset_from_directory(\n",
        "#     data_dir,\n",
        "#     validation_split=0.2,\n",
        "#     subset=\"validation\",\n",
        "#     seed=1337,\n",
        "#     image_size=image_size,\n",
        "#     batch_size=batch_size,\n",
        "#     label_mode='categorical'\n",
        "# )\n",
        "# print(train_ds)"
      ],
      "execution_count": null,
      "outputs": [
        {
          "output_type": "stream",
          "text": [
            "Found 24834 files belonging to 3 classes.\n",
            "Using 19868 files for training.\n",
            "Found 24834 files belonging to 3 classes.\n",
            "Using 4966 files for validation.\n",
            "<BatchDataset shapes: ((None, 299, 299, 3), (None, 3)), types: (tf.float32, tf.float32)>\n"
          ],
          "name": "stdout"
        }
      ]
    },
    {
      "cell_type": "code",
      "metadata": {
        "colab": {
          "base_uri": "https://localhost:8080/"
        },
        "id": "CkC6TuCLq5Vv",
        "outputId": "82bd13e8-f8ef-4332-8626-bdf2e61060cf"
      },
      "source": [
        "data_dir1 = \"/content/drive/MyDrive/Colab Notebooks/Major/Data1/train\"\n",
        "data_dir2 = \"/content/drive/MyDrive/Colab Notebooks/Major/Data1/val\"\n",
        "train_ds = tf.keras.preprocessing.image_dataset_from_directory(\n",
        "  data_dir1,\n",
        "  validation_split=None,\n",
        "  shuffle=True,\n",
        "  image_size=(img_height, img_width),\n",
        "  subset=None,\n",
        "  seed=123,\n",
        "  batch_size=batch_size,\n",
        "  label_mode='categorical'\n",
        ")\n",
        "val_ds = tf.keras.preprocessing.image_dataset_from_directory(\n",
        "  data_dir2,\n",
        "  validation_split=None,\n",
        "  shuffle=True,\n",
        "  image_size=(img_height, img_width),\n",
        "  subset=None,\n",
        "  seed=123,\n",
        "  batch_size=batch_size,\n",
        "  label_mode='categorical'\n",
        ")"
      ],
      "execution_count": 3,
      "outputs": [
        {
          "output_type": "stream",
          "text": [
            "Found 17394 files belonging to 5 classes.\n",
            "Found 3720 files belonging to 5 classes.\n"
          ],
          "name": "stdout"
        }
      ]
    },
    {
      "cell_type": "code",
      "metadata": {
        "id": "ZnvxwPuHp6bW"
      },
      "source": [
        "from tensorflow.keras.models import Sequential,load_model,save_model\n",
        "from tensorflow.keras.layers import Dense,Conv2D,Flatten,MaxPooling2D\n",
        "from tensorflow.keras.callbacks import EarlyStopping,ReduceLROnPlateau"
      ],
      "execution_count": 4,
      "outputs": []
    },
    {
      "cell_type": "code",
      "metadata": {
        "id": "eY_fGWBApfRY"
      },
      "source": [
        "from keras.layers import Conv2D, MaxPooling2D\n",
        "cnn = Sequential()\n",
        "\n",
        "cnn.add(Conv2D(32, (3, 3), activation=\"relu\", input_shape=(img_width, img_height, 3)))\n",
        "cnn.add(MaxPooling2D(pool_size = (2, 2)))\n",
        "\n",
        "cnn.add(Conv2D(32, (3, 3), activation=\"relu\", input_shape=(img_width, img_height, 3)))\n",
        "cnn.add(MaxPooling2D(pool_size = (2, 2)))\n",
        "\n",
        "cnn.add(Conv2D(32, (3, 3), activation=\"relu\", input_shape=(img_width, img_height, 3)))\n",
        "cnn.add(MaxPooling2D(pool_size = (2, 2)))\n",
        "\n",
        "cnn.add(Conv2D(64, (3, 3), activation=\"relu\", input_shape=(img_width, img_height, 3)))\n",
        "cnn.add(MaxPooling2D(pool_size = (2, 2)))\n",
        "\n",
        "cnn.add(Conv2D(64, (3, 3), activation=\"relu\", input_shape=(img_width, img_height, 3)))\n",
        "cnn.add(MaxPooling2D(pool_size = (2, 2)))\n",
        "\n",
        "cnn.add(Flatten())\n",
        "\n",
        "# cnn.add(Dense(activation = 'relu', units = 128))\n",
        "cnn.add(Dense(activation = 'relu', units = 64))\n",
        "cnn.add(Dense(5, activation = 'softmax'))\n",
        "\n",
        "\n",
        "cnn.compile(optimizer = 'adam', loss = 'categorical_crossentropy', metrics = ['accuracy'])"
      ],
      "execution_count": 13,
      "outputs": []
    },
    {
      "cell_type": "code",
      "metadata": {
        "colab": {
          "base_uri": "https://localhost:8080/"
        },
        "id": "hkT3peDXAT-d",
        "outputId": "8919f232-41d9-4d85-805a-d9f7f5593b1d"
      },
      "source": [
        "cnn.build(input_shape=(1, img_width, img_height, 3))\n",
        "cnn.summary()"
      ],
      "execution_count": 16,
      "outputs": [
        {
          "output_type": "stream",
          "text": [
            "Model: \"sequential_2\"\n",
            "_________________________________________________________________\n",
            "Layer (type)                 Output Shape              Param #   \n",
            "=================================================================\n",
            "module_wrapper_20 (ModuleWra multiple                  896       \n",
            "_________________________________________________________________\n",
            "module_wrapper_21 (ModuleWra multiple                  0         \n",
            "_________________________________________________________________\n",
            "module_wrapper_22 (ModuleWra multiple                  9248      \n",
            "_________________________________________________________________\n",
            "module_wrapper_23 (ModuleWra multiple                  0         \n",
            "_________________________________________________________________\n",
            "module_wrapper_24 (ModuleWra multiple                  9248      \n",
            "_________________________________________________________________\n",
            "module_wrapper_25 (ModuleWra multiple                  0         \n",
            "_________________________________________________________________\n",
            "module_wrapper_26 (ModuleWra multiple                  18496     \n",
            "_________________________________________________________________\n",
            "module_wrapper_27 (ModuleWra multiple                  0         \n",
            "_________________________________________________________________\n",
            "module_wrapper_28 (ModuleWra multiple                  36928     \n",
            "_________________________________________________________________\n",
            "module_wrapper_29 (ModuleWra multiple                  0         \n",
            "_________________________________________________________________\n",
            "flatten_2 (Flatten)          multiple                  0         \n",
            "_________________________________________________________________\n",
            "dense_5 (Dense)              multiple                  200768    \n",
            "_________________________________________________________________\n",
            "dense_6 (Dense)              multiple                  325       \n",
            "=================================================================\n",
            "Total params: 275,909\n",
            "Trainable params: 275,909\n",
            "Non-trainable params: 0\n",
            "_________________________________________________________________\n"
          ],
          "name": "stdout"
        }
      ]
    },
    {
      "cell_type": "code",
      "metadata": {
        "id": "MTso3xsMpr2Z"
      },
      "source": [
        "# from tensorflow.keras.utils import plot_model\n",
        "# plot_model(cnn,show_shapes=True, show_layer_names=True, rankdir='TB', expand_nested=True)\n",
        "# not working, only works in kaggle i think"
      ],
      "execution_count": null,
      "outputs": []
    },
    {
      "cell_type": "code",
      "metadata": {
        "id": "Qn_sYth1pw6w"
      },
      "source": [
        "early = EarlyStopping(monitor=\"val_loss\", \n",
        "                      mode=\"min\", \n",
        "                      patience=3)\n",
        "\n",
        "learning_rate_reduction = ReduceLROnPlateau(monitor='val_loss', patience = 2, verbose=1,factor=0.3, min_lr=0.000001)\n",
        "\n",
        "callbacks_list = [ early, learning_rate_reduction]"
      ],
      "execution_count": 6,
      "outputs": []
    },
    {
      "cell_type": "code",
      "metadata": {
        "colab": {
          "base_uri": "https://localhost:8080/"
        },
        "id": "19FldoHyp89G",
        "outputId": "96d9c172-2409-48f8-c84d-43fcc2f0b28f"
      },
      "source": [
        "cnn.fit(\n",
        "    train_ds ,\n",
        "    epochs=25, \n",
        "    validation_data=val_ds, \n",
        ")\n"
      ],
      "execution_count": 17,
      "outputs": [
        {
          "output_type": "stream",
          "text": [
            "Epoch 1/25\n",
            "544/544 [==============================] - 1736s 3s/step - loss: 1.0301 - accuracy: 0.6914 - val_loss: 0.5892 - val_accuracy: 0.7860\n",
            "Epoch 2/25\n",
            "544/544 [==============================] - 85s 155ms/step - loss: 0.5726 - accuracy: 0.7975 - val_loss: 0.5592 - val_accuracy: 0.7898\n",
            "Epoch 3/25\n",
            "544/544 [==============================] - 84s 154ms/step - loss: 0.5051 - accuracy: 0.8184 - val_loss: 0.5354 - val_accuracy: 0.8102\n",
            "Epoch 4/25\n",
            "544/544 [==============================] - 84s 153ms/step - loss: 0.4611 - accuracy: 0.8343 - val_loss: 0.4523 - val_accuracy: 0.8358\n",
            "Epoch 5/25\n",
            "544/544 [==============================] - 84s 153ms/step - loss: 0.4114 - accuracy: 0.8538 - val_loss: 0.4391 - val_accuracy: 0.8422\n",
            "Epoch 6/25\n",
            "544/544 [==============================] - 84s 153ms/step - loss: 0.3765 - accuracy: 0.8650 - val_loss: 0.4240 - val_accuracy: 0.8511\n",
            "Epoch 7/25\n",
            "544/544 [==============================] - 83s 152ms/step - loss: 0.3600 - accuracy: 0.8697 - val_loss: 0.3897 - val_accuracy: 0.8699\n",
            "Epoch 8/25\n",
            "544/544 [==============================] - 83s 152ms/step - loss: 0.3355 - accuracy: 0.8790 - val_loss: 0.9362 - val_accuracy: 0.8113\n",
            "Epoch 9/25\n",
            "544/544 [==============================] - 84s 153ms/step - loss: 0.4002 - accuracy: 0.8555 - val_loss: 0.4081 - val_accuracy: 0.8669\n",
            "Epoch 10/25\n",
            "544/544 [==============================] - 84s 154ms/step - loss: 0.3145 - accuracy: 0.8861 - val_loss: 0.3653 - val_accuracy: 0.8780\n",
            "Epoch 11/25\n",
            "544/544 [==============================] - 84s 153ms/step - loss: 0.2922 - accuracy: 0.8957 - val_loss: 0.3996 - val_accuracy: 0.8688\n",
            "Epoch 12/25\n",
            "544/544 [==============================] - 83s 152ms/step - loss: 0.2738 - accuracy: 0.9019 - val_loss: 0.3613 - val_accuracy: 0.8833\n",
            "Epoch 13/25\n",
            "544/544 [==============================] - 83s 152ms/step - loss: 0.2505 - accuracy: 0.9079 - val_loss: 0.3571 - val_accuracy: 0.8855\n",
            "Epoch 14/25\n",
            "544/544 [==============================] - 83s 153ms/step - loss: 0.2518 - accuracy: 0.9099 - val_loss: 0.3651 - val_accuracy: 0.8855\n",
            "Epoch 15/25\n",
            "544/544 [==============================] - 84s 153ms/step - loss: 0.2270 - accuracy: 0.9174 - val_loss: 0.4153 - val_accuracy: 0.8812\n",
            "Epoch 16/25\n",
            "544/544 [==============================] - 84s 154ms/step - loss: 0.2282 - accuracy: 0.9189 - val_loss: 0.3843 - val_accuracy: 0.8847\n",
            "Epoch 17/25\n",
            "544/544 [==============================] - 84s 153ms/step - loss: 0.2032 - accuracy: 0.9258 - val_loss: 0.3618 - val_accuracy: 0.8922\n",
            "Epoch 18/25\n",
            "544/544 [==============================] - 84s 154ms/step - loss: 0.2091 - accuracy: 0.9239 - val_loss: 0.3646 - val_accuracy: 0.8925\n",
            "Epoch 19/25\n",
            "544/544 [==============================] - 84s 154ms/step - loss: 0.1892 - accuracy: 0.9307 - val_loss: 0.3571 - val_accuracy: 0.8995\n",
            "Epoch 20/25\n",
            "544/544 [==============================] - 84s 153ms/step - loss: 0.1767 - accuracy: 0.9386 - val_loss: 0.4191 - val_accuracy: 0.8935\n",
            "Epoch 21/25\n",
            "544/544 [==============================] - 83s 152ms/step - loss: 0.1778 - accuracy: 0.9366 - val_loss: 0.4291 - val_accuracy: 0.8884\n",
            "Epoch 22/25\n",
            "544/544 [==============================] - 84s 153ms/step - loss: 0.1658 - accuracy: 0.9392 - val_loss: 0.3870 - val_accuracy: 0.8957\n",
            "Epoch 23/25\n",
            "544/544 [==============================] - 83s 151ms/step - loss: 0.1552 - accuracy: 0.9452 - val_loss: 0.5016 - val_accuracy: 0.8707\n",
            "Epoch 24/25\n",
            "544/544 [==============================] - 83s 152ms/step - loss: 0.1772 - accuracy: 0.9393 - val_loss: 0.4291 - val_accuracy: 0.8858\n",
            "Epoch 25/25\n",
            "544/544 [==============================] - 83s 152ms/step - loss: 0.1592 - accuracy: 0.9455 - val_loss: 0.4564 - val_accuracy: 0.8860\n"
          ],
          "name": "stdout"
        },
        {
          "output_type": "execute_result",
          "data": {
            "text/plain": [
              "<tensorflow.python.keras.callbacks.History at 0x7f8f3405d450>"
            ]
          },
          "metadata": {
            "tags": []
          },
          "execution_count": 17
        }
      ]
    },
    {
      "cell_type": "code",
      "metadata": {
        "id": "dxAczlVSp-dD",
        "colab": {
          "base_uri": "https://localhost:8080/"
        },
        "outputId": "20bd98cf-a8d4-415d-a2e2-405a597db369"
      },
      "source": [
        "data_dir2 = \"/content/drive/MyDrive/Colab Notebooks/Major/Data1/test\"\n",
        "test_ds = tf.keras.preprocessing.image_dataset_from_directory(\n",
        "  data_dir2,\n",
        "  validation_split=None,\n",
        "  shuffle=True,\n",
        "  image_size=(img_height, img_width),\n",
        "  subset=None,\n",
        "  seed=123,\n",
        "  batch_size=batch_size,\n",
        "  label_mode='categorical'\n",
        ")"
      ],
      "execution_count": 18,
      "outputs": [
        {
          "output_type": "stream",
          "text": [
            "Found 3720 files belonging to 5 classes.\n"
          ],
          "name": "stdout"
        }
      ]
    },
    {
      "cell_type": "code",
      "metadata": {
        "colab": {
          "base_uri": "https://localhost:8080/"
        },
        "id": "KlDR1E4fTcsa",
        "outputId": "cb8bba17-cee9-42e3-e674-9861b9092cb5"
      },
      "source": [
        "test_accu = cnn.evaluate(test_ds)\n",
        "print('The testing accuracy is :',test_accu[1]*100, '%')"
      ],
      "execution_count": 19,
      "outputs": [
        {
          "output_type": "stream",
          "text": [
            "117/117 [==============================] - 379s 3s/step - loss: 0.5005 - accuracy: 0.8761\n",
            "The testing accuracy is : 87.6075267791748 %\n"
          ],
          "name": "stdout"
        }
      ]
    },
    {
      "cell_type": "code",
      "metadata": {
        "colab": {
          "base_uri": "https://localhost:8080/"
        },
        "id": "ppG1ryGITgms",
        "outputId": "993ff0ab-510e-4a0f-ce28-02fb64de832c"
      },
      "source": [
        "preds = cnn.predict(test_ds,verbose=1)"
      ],
      "execution_count": 21,
      "outputs": [
        {
          "output_type": "stream",
          "text": [
            "117/117 [==============================] - 10s 77ms/step\n"
          ],
          "name": "stdout"
        }
      ]
    },
    {
      "cell_type": "code",
      "metadata": {
        "id": "PWEPaIgVVO7C"
      },
      "source": [
        "true_categories = tf.concat([y for x, y in test_ds], axis=0)\n",
        "\n",
        "pd = preds.copy()\n",
        "preds = []\n",
        "for v in pd:\n",
        "    x = []\n",
        "    i = max(v)\n",
        "    for val in v:\n",
        "        if val == i:\n",
        "            x.append(1)\n",
        "        else:\n",
        "            x.append(0)\n",
        "    preds.append(x)"
      ],
      "execution_count": 22,
      "outputs": []
    },
    {
      "cell_type": "code",
      "metadata": {
        "colab": {
          "base_uri": "https://localhost:8080/",
          "height": 501
        },
        "id": "WOlk27b-VdJv",
        "outputId": "36b41076-a549-446c-b2ff-165b1eb389b5"
      },
      "source": [
        "import pandas as pds\n",
        "import matplotlib.pyplot as plt\n",
        "import seaborn as sns\n",
        "from sklearn.metrics import confusion_matrix\n",
        "\n",
        "cm = confusion_matrix(true_categories.numpy().argmax(axis=1), np.array(preds).argmax(axis=1))\n",
        "fig = plt.figure(figsize = (8,8))\n",
        "ax1 = fig.add_subplot(1,1,1)\n",
        "sns.set(font_scale=1.4) #for label size\n",
        "sns.heatmap(cm, annot=True, annot_kws={\"size\": 12},\n",
        "     cbar = False, cmap='Purples');\n",
        "ax1.set_ylabel('True Values',fontsize=14)\n",
        "ax1.set_xlabel('Predicted Values',fontsize=14)\n",
        "plt.show()\n",
        "\n",
        "\n",
        "# normal is increasing accuracy too much, we need to decrease number of images in normal "
      ],
      "execution_count": 23,
      "outputs": [
        {
          "output_type": "display_data",
          "data": {
            "image/png": "[encoded data removed]",
            "text/plain": [
              "<Figure size 576x576 with 1 Axes>"
            ]
          },
          "metadata": {
            "tags": [],
            "needs_background": "light"
          }
        }
      ]
    },
    {
      "cell_type": "code",
      "metadata": {
        "id": "EdH1s2G2VkN4"
      },
      "source": [
        ""
      ],
      "execution_count": null,
      "outputs": []
    }
  ]
}