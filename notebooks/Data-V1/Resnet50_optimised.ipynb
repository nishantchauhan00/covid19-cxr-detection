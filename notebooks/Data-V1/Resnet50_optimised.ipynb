{
  "nbformat": 4,
  "nbformat_minor": 0,
  "metadata": {
    "colab": {
      "name": "Resnet50 - optimised.ipynb",
      "provenance": []
    },
    "kernelspec": {
      "name": "python3",
      "display_name": "Python 3"
    },
    "language_info": {
      "name": "python"
    },
    "accelerator": "GPU"
  },
  "cells": [
    {
      "cell_type": "code",
      "metadata": {
        "id": "wt9EGxZDLQth"
      },
      "source": [
        "import pandas as pd\n",
        "import numpy as np\n",
        "import os\n",
        "import tensorflow as tf\n",
        "import cv2\n",
        "from tensorflow.keras import layers\n",
        "from tensorflow.keras.layers import Dense, Input, InputLayer, Flatten, BatchNormalization, Dropout, GlobalAveragePooling2D\n",
        "from tensorflow.keras.models import Sequential, Model\n",
        "from  matplotlib import pyplot as plt\n",
        "from sklearn.model_selection import train_test_split\n",
        "from tensorflow.keras.models import Sequential,load_model,save_model\n",
        "from tensorflow.keras.layers import Dense,Conv2D,Flatten,MaxPooling2D\n",
        "from tensorflow.keras.callbacks import EarlyStopping,ReduceLROnPlateau, ModelCheckpoint\n",
        "from tensorflow.keras.applications import DenseNet121, ResNet50\n",
        "from keras.layers import Conv2D, MaxPooling2D\n",
        "import matplotlib.image as mpimg\n",
        "%matplotlib inline"
      ],
      "execution_count": 1,
      "outputs": []
    },
    {
      "cell_type": "code",
      "metadata": {
        "id": "eBt0MCSKYmCS"
      },
      "source": [
        "batch_size = 16\n",
        "img_height = 299\n",
        "img_width = 299\n",
        "image_size = (img_height, img_width)"
      ],
      "execution_count": 2,
      "outputs": []
    },
    {
      "cell_type": "code",
      "metadata": {
        "colab": {
          "base_uri": "https://localhost:8080/"
        },
        "id": "8s1CVAvUYr1G",
        "outputId": "bd8a26be-0341-4dfc-cd3e-bdbcea118aa0"
      },
      "source": [
        "data_dir1 = \"/content/drive/MyDrive/Colab Notebooks/Major/Data/train\"\n",
        "data_dir2 = \"/content/drive/MyDrive/Colab Notebooks/Major/Data/val\"\n",
        "data_dir3 = \"/content/drive/MyDrive/Colab Notebooks/Major/Data/test\"\n",
        "train_ds = tf.keras.preprocessing.image_dataset_from_directory(\n",
        "  data_dir1,\n",
        "  validation_split=None,\n",
        "  shuffle=True,\n",
        "  image_size=(img_height, img_width),\n",
        "  subset=None,\n",
        "  seed=123,\n",
        "  batch_size=batch_size,\n",
        "  label_mode='categorical'\n",
        ")\n",
        "val_ds = tf.keras.preprocessing.image_dataset_from_directory(\n",
        "  data_dir2,\n",
        "  validation_split=None,\n",
        "  shuffle=True,\n",
        "  image_size=(img_height, img_width),\n",
        "  subset=None,\n",
        "  seed=123,\n",
        "  batch_size=batch_size,\n",
        "  label_mode='categorical'\n",
        ")\n",
        "\n",
        "test_ds = tf.keras.preprocessing.image_dataset_from_directory(\n",
        "  data_dir3,\n",
        "  shuffle=False,\n",
        "  image_size=(img_height, img_width),\n",
        "  label_mode='categorical'\n",
        ")"
      ],
      "execution_count": 3,
      "outputs": [
        {
          "output_type": "stream",
          "text": [
            "Found 11447 files belonging to 5 classes.\n",
            "Found 2445 files belonging to 5 classes.\n",
            "Found 2445 files belonging to 5 classes.\n"
          ],
          "name": "stdout"
        }
      ]
    },
    {
      "cell_type": "code",
      "metadata": {
        "id": "7ZkJuwM1Ytcy"
      },
      "source": [
        "resnet_base = ResNet50(\n",
        "    include_top=False,\n",
        "    weights='imagenet',\n",
        "    input_shape=(img_height, img_width, 3),\n",
        "    pooling='avg'\n",
        ")\n",
        "output = Dense(5, activation='softmax')(resnet_base.output)\n",
        "\n",
        "resnet = Model(inputs=resnet_base.input, outputs=output)"
      ],
      "execution_count": 8,
      "outputs": []
    },
    {
      "cell_type": "code",
      "metadata": {
        "id": "AA8Q21lKY7ir"
      },
      "source": [
        "# --- didnt work, bad results\n",
        "# resnet.compile(\n",
        "#     loss='categorical_crossentropy',\n",
        "#     optimizer='adam',\n",
        "#     metrics=['categorical_accuracy', tf.keras.metrics.Precision(), tf.keras.metrics.Recall()]\n",
        "# )\n"
      ],
      "execution_count": 5,
      "outputs": []
    },
    {
      "cell_type": "markdown",
      "metadata": {
        "id": "37ZnrPQe1nL2"
      },
      "source": [
        "**just revising concepts**\n",
        "A metric is a function that is used to judge the performance of your model. Metric functions are similar to loss functions, except that the results from evaluating a metric are not used when training the model. Note that you may use any loss function as a metric."
      ]
    },
    {
      "cell_type": "code",
      "metadata": {
        "id": "zcvFIXC1lBwE"
      },
      "source": [
        "\n",
        "resnet.compile(\n",
        "    loss='binary_crossentropy',\n",
        "    optimizer='adam',\n",
        "    metrics=['binary_accuracy', tf.keras.metrics.Precision(), tf.keras.metrics.Recall()]\n",
        ")\n"
      ],
      "execution_count": 9,
      "outputs": []
    },
    {
      "cell_type": "code",
      "metadata": {
        "id": "LFnjUL5bY8bD"
      },
      "source": [
        "early = EarlyStopping(monitor=\"val_loss\", \n",
        "                      mode=\"min\", \n",
        "                      patience=3)\n",
        "\n",
        "learning_rate_reduction = ReduceLROnPlateau(monitor='val_loss', patience = 2, verbose=1,factor=0.1, min_lr=0.000001)\n",
        "\n",
        "checkpoint = ModelCheckpoint('/content/drive/MyDrive/Colab Notebooks/Major/Models/resnet-best1.hdf5', save_best_only=True, verbose=True)\n",
        "\n",
        "callbacks_list = [ early, learning_rate_reduction, checkpoint]"
      ],
      "execution_count": 10,
      "outputs": []
    },
    {
      "cell_type": "code",
      "metadata": {
        "colab": {
          "base_uri": "https://localhost:8080/"
        },
        "id": "a-_tYKusZII2",
        "outputId": "d956c95c-9605-44a7-9eb7-1d8badb05cd1"
      },
      "source": [
        "\n",
        "resnet_history = resnet.fit(\n",
        "    train_ds,\n",
        "    epochs=30,\n",
        "    shuffle=True,\n",
        "    validation_data=val_ds  ,\n",
        "    callbacks=callbacks_list\n",
        ")\n"
      ],
      "execution_count": 11,
      "outputs": [
        {
          "output_type": "stream",
          "text": [
            "Epoch 1/30\n",
            "716/716 [==============================] - 266s 364ms/step - loss: 0.1176 - binary_accuracy: 0.9587 - precision_1: 0.9031 - recall_1: 0.8889 - val_loss: 1.2525 - val_binary_accuracy: 0.7349 - val_precision_1: 0.3362 - val_recall_1: 0.3342\n",
            "\n",
            "Epoch 00001: val_loss improved from inf to 1.25248, saving model to /content/drive/MyDrive/Colab Notebooks/Major/Models/resnet-best1.hdf5\n"
          ],
          "name": "stdout"
        },
        {
          "output_type": "stream",
          "text": [
            "/usr/local/lib/python3.7/dist-packages/tensorflow/python/keras/utils/generic_utils.py:497: CustomMaskWarning: Custom mask layers require a config and must override get_config. When loading, the custom mask layer must be passed to the custom_objects argument.\n",
            "  category=CustomMaskWarning)\n"
          ],
          "name": "stderr"
        },
        {
          "output_type": "stream",
          "text": [
            "Epoch 2/30\n",
            "716/716 [==============================] - 260s 363ms/step - loss: 0.0583 - binary_accuracy: 0.9811 - precision_1: 0.9543 - recall_1: 0.9513 - val_loss: 1.9637 - val_binary_accuracy: 0.7336 - val_precision_1: 0.3339 - val_recall_1: 0.3337\n",
            "\n",
            "Epoch 00002: val_loss did not improve from 1.25248\n",
            "Epoch 3/30\n",
            "716/716 [==============================] - 260s 362ms/step - loss: 0.0465 - binary_accuracy: 0.9849 - precision_1: 0.9626 - recall_1: 0.9616 - val_loss: 3.2292 - val_binary_accuracy: 0.7081 - val_precision_1: 0.2700 - val_recall_1: 0.2699\n",
            "\n",
            "Epoch 00003: ReduceLROnPlateau reducing learning rate to 0.00010000000474974513.\n",
            "\n",
            "Epoch 00003: val_loss did not improve from 1.25248\n",
            "Epoch 4/30\n",
            "716/716 [==============================] - 260s 362ms/step - loss: 0.0184 - binary_accuracy: 0.9945 - precision_1: 0.9864 - recall_1: 0.9859 - val_loss: 0.1983 - val_binary_accuracy: 0.9398 - val_precision_1: 0.8498 - val_recall_1: 0.8491\n",
            "\n",
            "Epoch 00004: val_loss improved from 1.25248 to 0.19827, saving model to /content/drive/MyDrive/Colab Notebooks/Major/Models/resnet-best1.hdf5\n",
            "Epoch 5/30\n",
            "716/716 [==============================] - 260s 363ms/step - loss: 0.0105 - binary_accuracy: 0.9972 - precision_1: 0.9931 - recall_1: 0.9930 - val_loss: 0.0610 - val_binary_accuracy: 0.9804 - val_precision_1: 0.9517 - val_recall_1: 0.9501\n",
            "\n",
            "Epoch 00005: val_loss improved from 0.19827 to 0.06104, saving model to /content/drive/MyDrive/Colab Notebooks/Major/Models/resnet-best1.hdf5\n",
            "Epoch 6/30\n",
            "716/716 [==============================] - 261s 364ms/step - loss: 0.0069 - binary_accuracy: 0.9981 - precision_1: 0.9953 - recall_1: 0.9952 - val_loss: 0.0515 - val_binary_accuracy: 0.9836 - val_precision_1: 0.9591 - val_recall_1: 0.9591\n",
            "\n",
            "Epoch 00006: val_loss improved from 0.06104 to 0.05147, saving model to /content/drive/MyDrive/Colab Notebooks/Major/Models/resnet-best1.hdf5\n",
            "Epoch 7/30\n",
            "716/716 [==============================] - 260s 363ms/step - loss: 0.0041 - binary_accuracy: 0.9993 - precision_1: 0.9982 - recall_1: 0.9982 - val_loss: 0.0585 - val_binary_accuracy: 0.9818 - val_precision_1: 0.9553 - val_recall_1: 0.9534\n",
            "\n",
            "Epoch 00007: val_loss did not improve from 0.05147\n",
            "Epoch 8/30\n",
            "716/716 [==============================] - 260s 363ms/step - loss: 0.0023 - binary_accuracy: 0.9995 - precision_1: 0.9989 - recall_1: 0.9989 - val_loss: 0.0251 - val_binary_accuracy: 0.9944 - val_precision_1: 0.9861 - val_recall_1: 0.9861\n",
            "\n",
            "Epoch 00008: val_loss improved from 0.05147 to 0.02507, saving model to /content/drive/MyDrive/Colab Notebooks/Major/Models/resnet-best1.hdf5\n",
            "Epoch 9/30\n",
            "716/716 [==============================] - 260s 363ms/step - loss: 0.0034 - binary_accuracy: 0.9992 - precision_1: 0.9980 - recall_1: 0.9980 - val_loss: 0.0272 - val_binary_accuracy: 0.9923 - val_precision_1: 0.9808 - val_recall_1: 0.9808\n",
            "\n",
            "Epoch 00009: val_loss did not improve from 0.02507\n",
            "Epoch 10/30\n",
            "716/716 [==============================] - 260s 363ms/step - loss: 0.0013 - binary_accuracy: 0.9998 - precision_1: 0.9994 - recall_1: 0.9994 - val_loss: 0.0250 - val_binary_accuracy: 0.9943 - val_precision_1: 0.9857 - val_recall_1: 0.9857\n",
            "\n",
            "Epoch 00010: ReduceLROnPlateau reducing learning rate to 1.0000000474974514e-05.\n",
            "\n",
            "Epoch 00010: val_loss improved from 0.02507 to 0.02502, saving model to /content/drive/MyDrive/Colab Notebooks/Major/Models/resnet-best1.hdf5\n",
            "Epoch 11/30\n",
            "716/716 [==============================] - 260s 363ms/step - loss: 7.3273e-04 - binary_accuracy: 1.0000 - precision_1: 0.9999 - recall_1: 0.9999 - val_loss: 0.0251 - val_binary_accuracy: 0.9953 - val_precision_1: 0.9881 - val_recall_1: 0.9881\n",
            "\n",
            "Epoch 00011: val_loss did not improve from 0.02502\n",
            "Epoch 12/30\n",
            "716/716 [==============================] - 260s 363ms/step - loss: 5.3005e-04 - binary_accuracy: 1.0000 - precision_1: 0.9999 - recall_1: 0.9999 - val_loss: 0.0255 - val_binary_accuracy: 0.9951 - val_precision_1: 0.9877 - val_recall_1: 0.9877\n",
            "\n",
            "Epoch 00012: ReduceLROnPlateau reducing learning rate to 1.0000000656873453e-06.\n",
            "\n",
            "Epoch 00012: val_loss did not improve from 0.02502\n",
            "Epoch 13/30\n",
            "716/716 [==============================] - 260s 363ms/step - loss: 5.2295e-04 - binary_accuracy: 0.9999 - precision_1: 0.9997 - recall_1: 0.9997 - val_loss: 0.0255 - val_binary_accuracy: 0.9949 - val_precision_1: 0.9873 - val_recall_1: 0.9873\n",
            "\n",
            "Epoch 00013: val_loss did not improve from 0.02502\n"
          ],
          "name": "stdout"
        }
      ]
    },
    {
      "cell_type": "code",
      "metadata": {
        "colab": {
          "base_uri": "https://localhost:8080/"
        },
        "id": "DzimtfGGoJnI",
        "outputId": "c5c9f04a-bde6-409a-a651-35c6d166a509"
      },
      "source": [
        "!ls \"/content/drive/MyDrive/Colab Notebooks/Major/Data/train/Normal\" | wc -l"
      ],
      "execution_count": 12,
      "outputs": [
        {
          "output_type": "stream",
          "text": [
            "2294\n"
          ],
          "name": "stdout"
        }
      ]
    },
    {
      "cell_type": "code",
      "metadata": {
        "colab": {
          "base_uri": "https://localhost:8080/"
        },
        "id": "HZo0zF8lZb24",
        "outputId": "3e348934-e08f-44a0-fcee-8fadd22d9e74"
      },
      "source": [
        "test_accu = resnet.evaluate(test_ds)\n",
        "print('The testing accuracy is :',test_accu[1]*100, '%')"
      ],
      "execution_count": 13,
      "outputs": [
        {
          "output_type": "stream",
          "text": [
            "77/77 [==============================] - 357s 5s/step - loss: 0.0193 - binary_accuracy: 0.9953 - precision_1: 0.9881 - recall_1: 0.9881\n",
            "The testing accuracy is : 99.52555894851685 %\n"
          ],
          "name": "stdout"
        }
      ]
    },
    {
      "cell_type": "code",
      "metadata": {
        "colab": {
          "base_uri": "https://localhost:8080/",
          "height": 350
        },
        "id": "Narl14InhXjD",
        "outputId": "6b296e7f-a574-444a-df9c-4c5de602c822"
      },
      "source": [
        "plt.figure(figsize=(10,5))\n",
        "epochs=range(1,len(resnet_history.history['val_binary_accuracy'])+1)\n",
        "\n",
        "plt.plot(epochs,resnet_history.history[\"binary_accuracy\"])\n",
        "plt.plot(epochs,resnet_history.history['val_binary_accuracy'])\n",
        "plt.title('model accuracy')\n",
        "plt.ylabel('accuracy')\n",
        "plt.xlabel('epoch')\n",
        "plt.legend(['train', 'val'], loc='upper left')\n",
        "plt.show()"
      ],
      "execution_count": 14,
      "outputs": [
        {
          "output_type": "display_data",
          "data": {
            "image/png": "[encoded data removed]",
            "text/plain": [
              "<Figure size 720x360 with 1 Axes>"
            ]
          },
          "metadata": {
            "tags": [],
            "needs_background": "light"
          }
        }
      ]
    },
    {
      "cell_type": "code",
      "metadata": {
        "colab": {
          "base_uri": "https://localhost:8080/",
          "height": 350
        },
        "id": "TXbNd295hXpq",
        "outputId": "c9b82376-0fd9-482e-9b28-bb5574f92892"
      },
      "source": [
        "plt.figure(figsize=(10,5))\n",
        "epochs=range(1,len(resnet_history.history['val_loss'])+1)\n",
        "\n",
        "plt.plot(epochs,resnet_history.history[\"loss\"])\n",
        "plt.plot(epochs,resnet_history.history['val_loss'])\n",
        "plt.title('model loss')\n",
        "plt.ylabel('loss')\n",
        "plt.xlabel('epoch')\n",
        "plt.legend(['train', 'val'], loc='upper left')\n",
        "plt.show()"
      ],
      "execution_count": 15,
      "outputs": [
        {
          "output_type": "display_data",
          "data": {
            "image/png": "[encoded data removed]",
            "text/plain": [
              "<Figure size 720x360 with 1 Axes>"
            ]
          },
          "metadata": {
            "tags": [],
            "needs_background": "light"
          }
        }
      ]
    },
    {
      "cell_type": "code",
      "metadata": {
        "id": "sxoyI2mAhXsY"
      },
      "source": [
        "import seaborn as sns\n",
        "from sklearn.metrics import confusion_matrix, classification_report"
      ],
      "execution_count": 16,
      "outputs": []
    },
    {
      "cell_type": "code",
      "metadata": {
        "colab": {
          "base_uri": "https://localhost:8080/"
        },
        "id": "Cz_W1_0BhieE",
        "outputId": "b34f7005-791c-40da-b23b-eeebe2ff21d9"
      },
      "source": [
        "pred = resnet.predict(test_ds,verbose=1)"
      ],
      "execution_count": 17,
      "outputs": [
        {
          "output_type": "stream",
          "text": [
            "77/77 [==============================] - 13s 156ms/step\n"
          ],
          "name": "stdout"
        }
      ]
    },
    {
      "cell_type": "code",
      "metadata": {
        "id": "fTEWdVryhifQ"
      },
      "source": [
        "prediction =np.argmax(pred,axis=1)\n",
        "\n",
        "true_categories = tf.concat([y for x, y in test_ds], axis=0)\n",
        "tc = np.argmax(true_categories,axis=1)"
      ],
      "execution_count": 18,
      "outputs": []
    },
    {
      "cell_type": "code",
      "metadata": {
        "colab": {
          "base_uri": "https://localhost:8080/",
          "height": 501
        },
        "id": "0XCM5FHghihb",
        "outputId": "8968c426-72d0-4eda-bc64-32ac6f375a2b"
      },
      "source": [
        "cm = confusion_matrix(tc, prediction)\n",
        "fig = plt.figure(figsize = (8,8))\n",
        "ax1 = fig.add_subplot(1,1,1)\n",
        "sns.set(font_scale=1.4) #for label size\n",
        "sns.heatmap(cm, annot=True, annot_kws={\"size\": 12},\n",
        "     cbar = False, cmap='Purples');\n",
        "ax1.set_ylabel('True Values',fontsize=14)\n",
        "ax1.set_xlabel('Predicted Values',fontsize=14)\n",
        "plt.show()"
      ],
      "execution_count": 19,
      "outputs": [
        {
          "output_type": "display_data",
          "data": {
            "image/png": "[encoded data removed]",
            "text/plain": [
              "<Figure size 576x576 with 1 Axes>"
            ]
          },
          "metadata": {
            "tags": [],
            "needs_background": "light"
          }
        }
      ]
    },
    {
      "cell_type": "code",
      "metadata": {
        "id": "hwrS4t5Nhile"
      },
      "source": [
        ""
      ],
      "execution_count": null,
      "outputs": []
    }
  ]
}